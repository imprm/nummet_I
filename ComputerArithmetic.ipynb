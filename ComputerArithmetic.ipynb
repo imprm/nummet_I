{
 "metadata": {
  "name": ""
 },
 "nbformat": 3,
 "nbformat_minor": 0,
 "worksheets": [
  {
   "cells": [
    {
     "cell_type": "heading",
     "level": 1,
     "metadata": {},
     "source": [
      "ESE - Numerical Methods I: Basics of Computer Arithmetic"
     ]
    },
    {
     "cell_type": "heading",
     "level": 2,
     "metadata": {},
     "source": [
      "Floating point (FP) arithemtic $\\neq$ arithmetic in ${\\rm I\\!R}$"
     ]
    },
    {
     "cell_type": "markdown",
     "metadata": {},
     "source": [
      "The motivation for this session can be summed up by the following problem:"
     ]
    },
    {
     "cell_type": "code",
     "collapsed": false,
     "input": [
      "1.2-1. == 10.2-10."
     ],
     "language": "python",
     "metadata": {},
     "outputs": [
      {
       "metadata": {},
       "output_type": "pyout",
       "prompt_number": 34,
       "text": [
        "False"
       ]
      }
     ],
     "prompt_number": 34
    },
    {
     "cell_type": "markdown",
     "metadata": {},
     "source": [
      "or, actually the same, but expressed more daunting"
     ]
    },
    {
     "cell_type": "code",
     "collapsed": false,
     "input": [
      "1.2-1. != 10.2-10."
     ],
     "language": "python",
     "metadata": {},
     "outputs": [
      {
       "metadata": {},
       "output_type": "pyout",
       "prompt_number": 35,
       "text": [
        "True"
       ]
      }
     ],
     "prompt_number": 35
    },
    {
     "cell_type": "markdown",
     "metadata": {},
     "source": [
      "Is that a <a href=\"http://en.wikiquote.org/wiki/Grace_Hopper\">bug</a> in Python? "
     ]
    },
    {
     "cell_type": "markdown",
     "metadata": {},
     "source": [
      "<img src=\"http://static.squarespace.com/static/51361f2fe4b0f24e710af7ae/t/52dc3638e4b0d99728f927ae/1390163522743/codeeval2014.jpg?format=750w\" width=\"500\">"
     ]
    },
    {
     "cell_type": "markdown",
     "metadata": {},
     "source": [
      "That would be a lot of people using a buggy language. Let's try this in Matlab:"
     ]
    },
    {
     "cell_type": "markdown",
     "metadata": {},
     "source": [
      "<img src=\"files/img/matlab.png\" width=\"700\">"
     ]
    },
    {
     "cell_type": "markdown",
     "metadata": {},
     "source": [
      "Bummer (remember the binary convention $0 \\equiv False$ and $1 \\equiv True$). Apparently it has nothing to do with whether we use Python, Matlab, C++, etc. Let's try some reverse engineering to get closer to the root of the problem:"
     ]
    },
    {
     "cell_type": "code",
     "collapsed": false,
     "input": [
      "0.2-0."
     ],
     "language": "python",
     "metadata": {},
     "outputs": [
      {
       "metadata": {},
       "output_type": "pyout",
       "prompt_number": 36,
       "text": [
        "0.2"
       ]
      }
     ],
     "prompt_number": 36
    },
    {
     "cell_type": "code",
     "collapsed": false,
     "input": [
      "1.2-1."
     ],
     "language": "python",
     "metadata": {},
     "outputs": [
      {
       "metadata": {},
       "output_type": "pyout",
       "prompt_number": 37,
       "text": [
        "0.19999999999999996"
       ]
      }
     ],
     "prompt_number": 37
    },
    {
     "cell_type": "code",
     "collapsed": false,
     "input": [
      "10.2-10."
     ],
     "language": "python",
     "metadata": {},
     "outputs": [
      {
       "metadata": {},
       "output_type": "pyout",
       "prompt_number": 38,
       "text": [
        "0.1999999999999993"
       ]
      }
     ],
     "prompt_number": 38
    },
    {
     "cell_type": "code",
     "collapsed": false,
     "input": [
      "100.2-100."
     ],
     "language": "python",
     "metadata": {},
     "outputs": [
      {
       "metadata": {},
       "output_type": "pyout",
       "prompt_number": 39,
       "text": [
        "0.20000000000000284"
       ]
      }
     ],
     "prompt_number": 39
    },
    {
     "cell_type": "code",
     "collapsed": false,
     "input": [
      "1000.2-1000."
     ],
     "language": "python",
     "metadata": {},
     "outputs": [
      {
       "metadata": {},
       "output_type": "pyout",
       "prompt_number": 40,
       "text": [
        "0.20000000000004547"
       ]
      }
     ],
     "prompt_number": 40
    },
    {
     "cell_type": "code",
     "collapsed": false,
     "input": [
      "10000.2-10000."
     ],
     "language": "python",
     "metadata": {},
     "outputs": [
      {
       "metadata": {},
       "output_type": "pyout",
       "prompt_number": 41,
       "text": [
        "0.2000000000007276"
       ]
      }
     ],
     "prompt_number": 41
    },
    {
     "cell_type": "markdown",
     "metadata": {},
     "source": [
      "The problem seems even trickier than we had thought. Not only is the answer never $0.2$ exactly (besides the trivial case $0.2-0.$, which really triggers not much at all), but it seems to deviate more and more with larger numbers. It must be concluded that numerical calculations on binary systems like computers contain errors, errors that do not exist for calculus in ${\\rm I\\!R}$. Before we explore the nature and source of these errors, let's quantify them in terms of a 'correct' solution:\n",
      "\n",
      "First, the absolute error:\n",
      "\n",
      "\\begin{equation}\n",
      "\\epsilon = |\\tilde{x}-x|\n",
      "\\end{equation}\n",
      "\n",
      "where $\\tilde{x}$ is the computed solution and $x$ is the exact solution.\n",
      "\n",
      "For above problem, let's see how the absolute error scales with the magnitude of the numerical values involved."
     ]
    },
    {
     "cell_type": "code",
     "collapsed": false,
     "input": [
      "%pylab inline\n",
      "import numpy as np\n",
      "import matplotlib.pyplot as plt"
     ],
     "language": "python",
     "metadata": {},
     "outputs": [
      {
       "output_type": "stream",
       "stream": "stdout",
       "text": [
        "Populating the interactive namespace from numpy and matplotlib\n"
       ]
      },
      {
       "output_type": "stream",
       "stream": "stderr",
       "text": [
        "WARNING: pylab import has clobbered these variables: ['f']\n",
        "`%pylab --no-import-all` prevents importing * from pylab and numpy\n"
       ]
      }
     ],
     "prompt_number": 42
    },
    {
     "cell_type": "code",
     "collapsed": false,
     "input": [
      "# remember that in numpy, unless otherwise specified by the user, numbers are treated as floats\n",
      "# it is good practice though to indicate what numbers you consider as floats by using the decimal point\n",
      "ls = np.logspace(1.,25,25)\n",
      "x = 0.2\n",
      "# operators act elementwise on array\n",
      "x_tilde = (ls+x)-ls\n",
      "absolute_error = np.abs(x_tilde-x)"
     ],
     "language": "python",
     "metadata": {},
     "outputs": [],
     "prompt_number": 43
    },
    {
     "cell_type": "code",
     "collapsed": false,
     "input": [
      "f, ax = plt.subplots()\n",
      "ax.plot(ls, absolute_error)\n",
      "ax.set_xscale('log')\n",
      "ax.set_yscale('log')\n",
      "ax.set_xlabel(r'$O(x)$')\n",
      "ax.set_ylabel(r'$O(\\epsilon)$')\n",
      "ax.set_title('Absolute Error')\n",
      "plt.show()"
     ],
     "language": "python",
     "metadata": {},
     "outputs": [
      {
       "metadata": {},
       "output_type": "display_data",
       "png": "[encoded data removed]",
       "text": [
        "<matplotlib.figure.Figure at 0x801f978>"
       ]
      }
     ],
     "prompt_number": 44
    },
    {
     "cell_type": "markdown",
     "metadata": {},
     "source": [
      "We can see that the absolute error, that is the absolute difference from $x = 0.2$ compared to $\\tilde{x}$ increases with increasing magnitude of the numbers that we perform the arithemtic operation on. Above a certain magnitude, the error appears consant... We'll come back to this.\n",
      "\n",
      "Second, the relative error:\n",
      "\n",
      "\\begin{equation}\n",
      "\\epsilon = |\\frac{\\tilde{x}-x}{x}|\n",
      "\\end{equation}\n",
      "\n",
      "Let's see if this provides more insight:"
     ]
    },
    {
     "cell_type": "code",
     "collapsed": false,
     "input": [
      "relative_error = np.abs((x_tilde-x)/x)"
     ],
     "language": "python",
     "metadata": {},
     "outputs": [],
     "prompt_number": 45
    },
    {
     "cell_type": "code",
     "collapsed": false,
     "input": [
      "f, ax = plt.subplots()\n",
      "ax.plot(ls, relative_error)\n",
      "ax.set_xscale('log')\n",
      "ax.set_yscale('log')\n",
      "ax.set_xlabel(r'$O(x)$')\n",
      "ax.set_ylabel(r'$O(\\epsilon)$')\n",
      "ax.set_title('Relative Error')\n",
      "ax.set_ylim(None, 1.0E1)\n",
      "plt.show()"
     ],
     "language": "python",
     "metadata": {},
     "outputs": [
      {
       "metadata": {},
       "output_type": "display_data",
       "png": "[encoded data removed]",
       "text": [
        "<matplotlib.figure.Figure at 0x84d4c50>"
       ]
      }
     ],
     "prompt_number": 46
    },
    {
     "cell_type": "markdown",
     "metadata": {},
     "source": [
      "To sum up our observations we can say that the error in our little subtraction increases with the magnitude of the number leading the dezimal point, up to a point where it is constant, i.e., of the exact size as the subtracted number. In other words, our subtraction of $0.2$ has no effect for numbers larger than a certain magnitude. More on that later...\n",
      "\n",
      "A pressing question by now shoudl be: How can we do reliable computations if any operation on floating carries errors? Particularly since we know that so many safety critical aspects are based on computer calculations.\n",
      "The answer can be summarized by:"
     ]
    },
    {
     "cell_type": "code",
     "collapsed": false,
     "input": [
      "1.2-1. == 1.2-1."
     ],
     "language": "python",
     "metadata": {},
     "outputs": [
      {
       "metadata": {},
       "output_type": "pyout",
       "prompt_number": 47,
       "text": [
        "True"
       ]
      }
     ],
     "prompt_number": 47
    },
    {
     "cell_type": "markdown",
     "metadata": {},
     "source": [
      "This, simply put, means that even though errors are part of computations, these errors are not random (like in experimental measurement apparati). They are systematic, reproducible and well understood. The answer is not that the errors are *small*, since this would be very much a matter of context.\n",
      "\n",
      "The two errors that significantly contribute to deviations from arithmetic in ${\\rm I\\!R}$ are due to mechanisms of:\n",
      "\n",
      "* rounding\n",
      "* truncation\n",
      "\n",
      "In brief, errors result from a *finite* representation of numbers on binary systems and rules to operate on them, which brings us to..."
     ]
    },
    {
     "cell_type": "heading",
     "level": 2,
     "metadata": {},
     "source": [
      "Binary number representation"
     ]
    },
    {
     "cell_type": "markdown",
     "metadata": {},
     "source": [
      "In 1986, <a href=\"http://en.wikipedia.org/wiki/Link_%28The_Legend_of_Zelda%29\">Link</a> faced a problem: no matter his achievements, he could never accumulate more than <a href=\"http://en.wikipedia.org/wiki/255_%28number%29\">255</a> rupees in his wallet. This was not a consequence of reigning communism - he faced the same problem as <a href=\"http://www.economist.com/blogs/economist-explains/2014/12/economist-explains-6\">Psy</a> in the year 2014: the finite representation of numbers on binary systems.\n"
     ]
    },
    {
     "cell_type": "heading",
     "level": 3,
     "metadata": {},
     "source": [
      "Integer numbers"
     ]
    },
    {
     "cell_type": "markdown",
     "metadata": {},
     "source": [
      "Before we learn how computer systems represent, i.e., store, numbers, let's look at a systematic way of representing numeric values, here the natural number $123$, using our <a href=\"http://en.wikipedia.org/wiki/Decimal\">base 10</a> numeral system:\n",
      "\n",
      "$1\\times10^2 + 2\\times10^1 + 3\\times10^0 = 123$\n",
      "\n",
      "This can be ordered in a column manner, say for an <a href=\"http://en.wikipedia.org/wiki/Nibble\">arbitrary</a> four columns:\n",
      "\n",
      "<table>\n",
      "<tr>\n",
      "<th>$10^3$</th>\n",
      "<th>$10^2$</th>\n",
      "<th>$10^1$</th>\n",
      "<th>$10^0$</th>\n",
      "</tr>\n",
      "<tr>\n",
      "<td>$0$</td>\n",
      "<td>$1$</td>\n",
      "<td>$2$</td>\n",
      "<td>$3$</td>\n",
      "</tr>\n",
      "</table>\n",
      "\n",
      "so that, again, the expression yields:\n",
      "\n",
      "$0\\times10^3 +1\\times10^2 + 2\\times10^1 + 3\\times10^0 = 123$\n",
      "\n",
      "Since our factor ranges from 0 to 9 (10 values), we can represent all natural numbers $[0,9999]$ this way. If we allocated more cells, say five:\n",
      "\n",
      "<table>\n",
      "<tr>\n",
      "<th>$10^4$</th>\n",
      "<th>$10^3$</th>\n",
      "<th>$10^2$</th>\n",
      "<th>$10^1$</th>\n",
      "<th>$10^0$</th>\n",
      "</tr>\n",
      "<tr>\n",
      "<td>$0$</td>\n",
      "<td>$0$</td>\n",
      "<td>$1$</td>\n",
      "<td>$2$</td>\n",
      "<td>$3$</td>\n",
      "</tr>\n",
      "</table>\n",
      "\n",
      "it would be $[0,99999]$, etc...\n",
      "\n",
      "Conventional computer systems, however, store data in terms of *low voltage* or *high voltage*, or *0* and *1*, *false* and *true*, *off* and *on*. So the obvious base for a binary number system is two:\n",
      "\n",
      "<table>\n",
      "<tr>\n",
      "<th>$2^7$</th>\n",
      "<th>$2^6$</th>\n",
      "<th>$2^5$</th>\n",
      "<th>$2^4$</th>\n",
      "<th>$2^3$</th>\n",
      "<th>$2^2$</th>\n",
      "<th>$2^1$</th>\n",
      "<th>$2^0$</th>\n",
      "</tr>\n",
      "<tr>\n",
      "<td>$0$</td>\n",
      "<td>$1$</td>\n",
      "<td>$1$</td>\n",
      "<td>$1$</td>\n",
      "<td>$1$</td>\n",
      "<td>$0$</td>\n",
      "<td>$1$</td>\n",
      "<td>$1$</td>\n",
      "</tr>\n",
      "</table>\n",
      "\n",
      "Following the same rationale, we get:"
     ]
    },
    {
     "cell_type": "code",
     "collapsed": false,
     "input": [
      "0*2**7 + 1*2**6 + 1*2**5 + 1*2**4 + 1*2**3 + 0*2**2 + 1*2**1 + 1*2**0"
     ],
     "language": "python",
     "metadata": {},
     "outputs": [
      {
       "metadata": {},
       "output_type": "pyout",
       "prompt_number": 48,
       "text": [
        "123"
       ]
      }
     ],
     "prompt_number": 48
    },
    {
     "cell_type": "markdown",
     "metadata": {},
     "source": [
      "This concept is used by the operating system to allocate a fixed width of memory, here 8 bits, and interpret its values as multipliers for decreasing powers of two, bitwise, from the left to the right, to compute a number from $0 / I$ values. It immedeately follows that the range of numbers is a function of the numbers of bits allocated to represent the integer value. Common bit chunk sizes and their limits are found <a href=\"http://docs.scipy.org/doc/numpy/user/basics.types.html\">here</a>.\n",
      "\n",
      "This system has been extended to negative numbers, allowing for simple addition/subtraction operations - the <a href=\"http://en.wikipedia.org/wiki/Arithmetic_logic_unit#Numerical_systems\">two's complement</a>, standard for integer representation and operations on modern computer systems. The system is simple, really:\n",
      "\n",
      "$123$ is, as derived above, given as:\n",
      "\n",
      "<table>\n",
      "<tr>\n",
      "<th>$0$</th>\n",
      "<th>$1$</th>\n",
      "<th>$1$</th>\n",
      "<th>$1$</th>\n",
      "<th>$1$</th>\n",
      "<th>$0$</th>\n",
      "<th>$1$</th>\n",
      "<th>$1$</th>\n",
      "</tr>\n",
      "</table>\n",
      "\n",
      "but now, the left most bit has a different meaning: it is the *significant* bit, or *sign* bit. A $0$ value indicates the following representation is for a positive number. To get $-123$ we first invert all bits\n",
      "\n",
      "<table>\n",
      "<tr>\n",
      "<th>$1$</th>\n",
      "<th>$0$</th>\n",
      "<th>$0$</th>\n",
      "<th>$0$</th>\n",
      "<th>$0$</th>\n",
      "<th>$1$</th>\n",
      "<th>$0$</th>\n",
      "<th>$0$</th>\n",
      "</tr>\n",
      "</table>\n",
      "\n",
      "and then add $1$ to get\n",
      "\n",
      "<table>\n",
      "<tr>\n",
      "<th>$1$</th>\n",
      "<th>$0$</th>\n",
      "<th>$0$</th>\n",
      "<th>$0$</th>\n",
      "<th>$0$</th>\n",
      "<th>$1$</th>\n",
      "<th>$0$</th>\n",
      "<th>$1$</th>\n",
      "</tr>\n",
      "</table>\n",
      "\n",
      "the two's complement representation of $-123$, with the signigicant bit of $1$ indicating a negative number. The operation of addition is very simply peformed in this system. For $123+123$, we first need to allocate more memory, to avoid <a href=\"http://en.wikipedia.org/wiki/Integer_overflow\">overflow</a>, since the result is not within $[-128,127]$. So for 16 bits:\n",
      "\n",
      "<table>\n",
      "<tr>\n",
      "<th>$0$</th>\n",
      "<th>$0$</th>\n",
      "<th>$0$</th>\n",
      "<th>$0$</th>\n",
      "<th>$0$</th>\n",
      "<th>$0$</th>\n",
      "<th>$0$</th>\n",
      "<th>$0$</th>\n",
      "<th>$0$</th>\n",
      "<th>$1$</th>\n",
      "<th>$1$</th>\n",
      "<th>$1$</th>\n",
      "<th>$1$</th>\n",
      "<th>$0$</th>\n",
      "<th>$1$</th>\n",
      "<th>$1$</th>\n",
      "</tr>\n",
      "</table>\n",
      "\n",
      "The addition of **int_1 + int_2 = resul**, where **int_1** = $123$ and **int_2** = $123$, can then be represented as\n",
      "\n",
      "\n",
      "<table>\n",
      "<tr>\n",
      "<th>carry</th>\n",
      "<th>$0$</th>\n",
      "<th>$0$</th>\n",
      "<th>$0$</th>\n",
      "<th>$0$</th>\n",
      "<th>$0$</th>\n",
      "<th>$0$</th>\n",
      "<th>$0$</th>\n",
      "<th>$0$</th>\n",
      "<th>$0$</th>\n",
      "<th>$1$</th>\n",
      "<th>$1$</th>\n",
      "<th>$1$</th>\n",
      "<th>$1$</th>\n",
      "<th>$0$</th>\n",
      "<th>$1$</th>\n",
      "<th>$1$</th>\n",
      "</tr>\n",
      "</table>\n",
      "<table>\n",
      "<tr>\n",
      "<th>int_1</th>\n",
      "<th>$0$</th>\n",
      "<th>$0$</th>\n",
      "<th>$0$</th>\n",
      "<th>$0$</th>\n",
      "<th>$0$</th>\n",
      "<th>$0$</th>\n",
      "<th>$0$</th>\n",
      "<th>$0$</th>\n",
      "<th>$0$</th>\n",
      "<th>$1$</th>\n",
      "<th>$1$</th>\n",
      "<th>$1$</th>\n",
      "<th>$1$</th>\n",
      "<th>$0$</th>\n",
      "<th>$1$</th>\n",
      "<th>$1$</th>\n",
      "</tr>\n",
      "</table>\n",
      "<table>\n",
      "<tr>\n",
      "<th>int_2</th>\n",
      "<th>$0$</th>\n",
      "<th>$0$</th>\n",
      "<th>$0$</th>\n",
      "<th>$0$</th>\n",
      "<th>$0$</th>\n",
      "<th>$0$</th>\n",
      "<th>$0$</th>\n",
      "<th>$0$</th>\n",
      "<th>$0$</th>\n",
      "<th>$1$</th>\n",
      "<th>$1$</th>\n",
      "<th>$1$</th>\n",
      "<th>$1$</th>\n",
      "<th>$0$</th>\n",
      "<th>$1$</th>\n",
      "<th>$1$</th>\n",
      "</tr>\n",
      "</table>\n",
      "<table><tr>\n",
      "<th>resul</th>\n",
      "<th>$0$</th>\n",
      "<th>$0$</th>\n",
      "<th>$0$</th>\n",
      "<th>$0$</th>\n",
      "<th>$0$</th>\n",
      "<th>$0$</th>\n",
      "<th>$0$</th>\n",
      "<th>$0$</th>\n",
      "<th>$1$</th>\n",
      "<th>$1$</th>\n",
      "<th>$1$</th>\n",
      "<th>$1$</th>\n",
      "<th>$0$</th>\n",
      "<th>$1$</th>\n",
      "<th>$1$</th>\n",
      "<th>$0$</th>\n",
      "</tr>\n",
      "</table>\n",
      "\n",
      "where **resul** = 246, check for yourself (we start at the first non-zero bit from the left):\n"
     ]
    },
    {
     "cell_type": "code",
     "collapsed": false,
     "input": [
      "1*2**7 + 1*2**6 + 1*2**5 + 1*2**4 + 0*2**3 + 1*2**2 + 1*2**1 + 0*2**0"
     ],
     "language": "python",
     "metadata": {},
     "outputs": [
      {
       "metadata": {},
       "output_type": "pyout",
       "prompt_number": 49,
       "text": [
        "246"
       ]
      }
     ],
     "prompt_number": 49
    },
    {
     "cell_type": "markdown",
     "metadata": {},
     "source": [
      "Subtraction is simply implemented by adding the negative value, so $123-123$ becomes $123+(-123)$:\n",
      "\n",
      "<table>\n",
      "<tr>\n",
      "<th>carry</th>\n",
      "<th>$1$</th>\n",
      "<th>$1$</th>\n",
      "<th>$1$</th>\n",
      "<th>$1$</th>\n",
      "<th>$1$</th>\n",
      "<th>$1$</th>\n",
      "<th>$1$</th>\n",
      "<th>$1$</th>\n",
      "<th>$1$</th>\n",
      "<th>$1$</th>\n",
      "<th>$1$</th>\n",
      "<th>$1$</th>\n",
      "<th>$1$</th>\n",
      "<th>$1$</th>\n",
      "<th>$1$</th>\n",
      "<th>$1$</th>\n",
      "</tr>\n",
      "</table>\n",
      "<table>\n",
      "<tr>\n",
      "<th>int_1</th>\n",
      "<th>$0$</th>\n",
      "<th>$0$</th>\n",
      "<th>$0$</th>\n",
      "<th>$0$</th>\n",
      "<th>$0$</th>\n",
      "<th>$0$</th>\n",
      "<th>$0$</th>\n",
      "<th>$0$</th>\n",
      "<th>$0$</th>\n",
      "<th>$1$</th>\n",
      "<th>$1$</th>\n",
      "<th>$1$</th>\n",
      "<th>$1$</th>\n",
      "<th>$0$</th>\n",
      "<th>$1$</th>\n",
      "<th>$1$</th>\n",
      "</tr>\n",
      "</table>\n",
      "<table>\n",
      "<tr>\n",
      "<th>int_2</th>\n",
      "<th>$1$</th>\n",
      "<th>$1$</th>\n",
      "<th>$1$</th>\n",
      "<th>$1$</th>\n",
      "<th>$1$</th>\n",
      "<th>$1$</th>\n",
      "<th>$1$</th>\n",
      "<th>$1$</th>\n",
      "<th>$1$</th>\n",
      "<th>$0$</th>\n",
      "<th>$0$</th>\n",
      "<th>$0$</th>\n",
      "<th>$0$</th>\n",
      "<th>$1$</th>\n",
      "<th>$0$</th>\n",
      "<th>$1$</th>\n",
      "</tr>\n",
      "</table>\n",
      "<table><tr>\n",
      "<th>resul</th>\n",
      "<th>$0$</th>\n",
      "<th>$0$</th>\n",
      "<th>$0$</th>\n",
      "<th>$0$</th>\n",
      "<th>$0$</th>\n",
      "<th>$0$</th>\n",
      "<th>$0$</th>\n",
      "<th>$0$</th>\n",
      "<th>$0$</th>\n",
      "<th>$0$</th>\n",
      "<th>$0$</th>\n",
      "<th>$0$</th>\n",
      "<th>$0$</th>\n",
      "<th>$0$</th>\n",
      "<th>$0$</th>\n",
      "<th>$0$</th>\n",
      "</tr>\n",
      "</table>\n",
      "\n",
      "which yields $0$, as expected. This is all we'll look at here in terms of arithmetic operations on binary systems. The take-home message from this section is that integers are represented on computers in a two's complement manner (base 2 numeral system), and are limited in the *range* of representable numbers by the <a href=\"http://docs.scipy.org/doc/numpy/user/basics.types.html\">dedicated</a> memory."
     ]
    },
    {
     "cell_type": "heading",
     "level": 3,
     "metadata": {},
     "source": [
      "Floating point number representation"
     ]
    },
    {
     "cell_type": "markdown",
     "metadata": {},
     "source": [
      "Like integers, floating point numbers are limited in the *range* of numbers that can be represented, a function of the allocated memory. But they also face another limitation: one of *precision*.\n",
      "\n",
      "To illustrate the concept of a *floating* point, think about two applications:\n",
      "\n",
      "* a conventional hydrocarbon resevoir model on the km scale:\n",
      "\n",
      "<img src=\"http://www.pdgm.com/getmedia/40ff0d3b-bf82-4f29-aef1-b9195b127d9e/Porosity.jpg.aspx?width=1024&height=650&ext=.jpg\" width=\"500\">\n",
      "\n",
      "* a pore model on the micron scale:\n",
      "\n",
      "<img src=\"http://www.lithicon.com/wp-content/uploads/2012/10/CO2-EOR-Sim-1024x451.jpg\" width=\"500\">\n",
      "\n",
      "Numerical values describing the model geometry and processes therein vary drastically in magnitude. Most likely, however, we're not concernce with mm scale errors on the field scale, and we're not expecting any values larger than mm on the pore scale. This motivates a numeral system that represents numbers with a *relative* precision, i.e., a *floating* point - as opposed to a *fixed* point. You are familiar with one system of this kind, namely the scientific notation, a decimal (base 10) floating point notation. For example\n",
      "\n",
      "$123000$ = 1.23**E3** = 1.23$\\times10^3$\n",
      "\n",
      "$0.00123$ = 1.23**E-3** = 1.23$\\times10^{-3}$\n",
      "\n",
      "A floating point representation has two components, a *fraction* or *significand* (here $1.23$) and an *exponent* (here $3$ and $-3$), around a base, here $10$ in the decimal system. It follwos\n",
      "\n",
      "$value = fraction \\times base^{exponent}$\n",
      "\n",
      "The <a href=\"http://en.wikipedia.org/wiki/IEEE_floating_point\">standard</a> bit representation of floating point numbers , here for single precison (32 bit), adheres to this concept:\n",
      "\n",
      "<img src=\"http://upload.wikimedia.org/wikipedia/commons/thumb/d/d2/Float_example.svg/885px-Float_example.svg.png\" width=\"500\">\n",
      "\n",
      "The base, again, is $2$. The numeric value of the bit pattern follows as\n",
      "\n",
      "\\begin{equation}\n",
      "value = (-1)^{sign} \\left( 1 + \\sum_{i=1}^{23} b_{23-i}2^{-i}  \\right) \\times 2^{(exponent-127)}\n",
      "\\end{equation}\n",
      "\n",
      "similar to \n",
      "\n",
      "$value = sign \\times fraction \\times base^{exponent}$\n",
      "\n",
      "where the $fraction$ is also referred to as $mantissa$. The zero offset of $127$ in the exponent, also referred to as exponent bias, arises mostly to allow for the representation of special values and zero, but we won't go into details here. The special numbers are\n",
      "\n",
      "$NaN$ ... Not a Number\n",
      "\n",
      "and\n",
      "\n",
      "$-/+ \\infty$\n",
      "\n",
      "These values invoke non-standard arithmetic operations and significantly slow down the process compared to conventional binary numbers. Think about why it would make sense to initialize variables to NaN and not to zero! Look up the order of magnitude that results in $\\infty$.\n",
      "\n",
      "The floating point format allows for a **wide range** of numbers to be represented with **relative precision**. It is obvious that both are a function of allocated memory, i.e., 16bit (half-), 32bit (single-) or <a href=\"http://en.wikipedia.org/wiki/Double-precision_floating-point_format\">64bit</a> (double-precision). Specifically, the finitness of the fraction limits the precision, and the finitness of the exponent limits the range.\n",
      "\n",
      "Let's think about this, recalling our initial assessment of the relativ error in the calculation\n",
      "\n",
      "$1.2 - 1., 10.2-10., 100.2-100...$\n"
     ]
    },
    {
     "cell_type": "code",
     "collapsed": false,
     "input": [
      "f, ax = plt.subplots()\n",
      "ax.plot(ls, relative_error)\n",
      "ax.set_xscale('log')\n",
      "ax.set_yscale('log')\n",
      "ax.set_xlabel(r'$O(x)$')\n",
      "ax.set_ylabel(r'$O(\\epsilon)$')\n",
      "ax.set_title('Relative Error')\n",
      "ax.set_ylim(None, 1.0E1)\n",
      "plt.show()"
     ],
     "language": "python",
     "metadata": {},
     "outputs": [
      {
       "metadata": {},
       "output_type": "display_data",
       "png": "[encoded data removed]",
       "text": [
        "<matplotlib.figure.Figure at 0x8010630>"
       ]
      }
     ],
     "prompt_number": 50
    },
    {
     "cell_type": "markdown",
     "metadata": {},
     "source": [
      "We recognize that our error is expressed relative to the result $0.2$. We see that for a number of $10^{16}$ and greater the relative error is $1$, meaning the subtraction has no effect, i.e.,\n",
      "\n",
      "$ 10^{17} - 0.2 = 10^{17}$\n",
      "\n",
      "Let's express the error relative to the magnitude of the involved numbers."
     ]
    },
    {
     "cell_type": "code",
     "collapsed": false,
     "input": [
      "relative_error_2 = np.abs((x_tilde-x)/ls)"
     ],
     "language": "python",
     "metadata": {},
     "outputs": [],
     "prompt_number": 51
    },
    {
     "cell_type": "code",
     "collapsed": false,
     "input": [
      "f, ax = plt.subplots()\n",
      "ax.plot(ls, relative_error_2)\n",
      "ax.set_xscale('log')\n",
      "ax.set_yscale('log')\n",
      "ax.set_xlabel(r'$O(x)$')\n",
      "ax.set_ylabel(r'$O(\\epsilon)$')\n",
      "ax.set_title('Relative Error')\n",
      "ax.set_ylim(None, 1.0E1)\n",
      "ax.annotate(r'$\\epsilon_{machine}$', xy=(1.1E1, 1.1E-16), xycoords='data', xytext=(1E6, 1E-10), textcoords='data', \n",
      "            arrowprops=dict(arrowstyle=\"->\", connectionstyle=\"arc3\"), fontsize=20 )\n",
      "plt.show()"
     ],
     "language": "python",
     "metadata": {},
     "outputs": [
      {
       "metadata": {},
       "output_type": "display_data",
       "png": "[encoded data removed]",
       "text": [
        "<matplotlib.figure.Figure at 0x848a550>"
       ]
      }
     ],
     "prompt_number": 52
    },
    {
     "cell_type": "markdown",
     "metadata": {},
     "source": [
      "Expressed this way, the relative error is constant up to $10^{16}$, in the order of magnitude $10^{16}$.\n",
      "\n",
      "The explanation for these observations is the following: floating point numbers are represented to a *relative* precision, denoted by \n",
      "\n",
      "$\\epsilon_{machine} = 2.220446049250313 \\times 10^{\u221216}$ for 64bit floating point numbers\n",
      "\n",
      "It represents the smallest *relative* gap between representable numbers, so that, for example, all numbers between\n",
      "\n",
      "$[1,1+\\epsilon_{machine}]$\n",
      "\n",
      "are rounded to either one.\n",
      "\n",
      "We can now see why the absolute error of $(10^{17}+0.2) - 10^{17}$ is *exactly* $0.2$: we cannot represent the absolute value of $0.2$ at this magnitude, since the absolute gap between representable number is \n"
     ]
    },
    {
     "cell_type": "code",
     "collapsed": false,
     "input": [
      "1E17*2.220446049250313E-16"
     ],
     "language": "python",
     "metadata": {},
     "outputs": [
      {
       "metadata": {},
       "output_type": "pyout",
       "prompt_number": 53,
       "text": [
        "22.20446049250313"
       ]
      }
     ],
     "prompt_number": 53
    },
    {
     "cell_type": "markdown",
     "metadata": {},
     "source": [
      "This gap, in absolute terms, is much larger than $0.2$, the value we're trying to subtract."
     ]
    },
    {
     "cell_type": "code",
     "collapsed": false,
     "input": [
      "1e17 - 0.2"
     ],
     "language": "python",
     "metadata": {},
     "outputs": [
      {
       "metadata": {},
       "output_type": "pyout",
       "prompt_number": 54,
       "text": [
        "1e+17"
       ]
      }
     ],
     "prompt_number": 54
    },
    {
     "cell_type": "markdown",
     "metadata": {},
     "source": [
      "This is also referred to as <a href=\"http://ta.twi.tudelft.nl/users/vuik/wi211/disasters.html\">catastrophic</a> cancellation, when there is devastating loss of precision when small numbers are computed from large numbers, which themselves are subject to round-off error. So is"
     ]
    },
    {
     "cell_type": "code",
     "collapsed": false,
     "input": [
      "1e17 - 2"
     ],
     "language": "python",
     "metadata": {},
     "outputs": [
      {
       "metadata": {},
       "output_type": "pyout",
       "prompt_number": 55,
       "text": [
        "1e+17"
       ]
      }
     ],
     "prompt_number": 55
    },
    {
     "cell_type": "markdown",
     "metadata": {},
     "source": [
      "but not"
     ]
    },
    {
     "cell_type": "code",
     "collapsed": false,
     "input": [
      "1e17 - 20"
     ],
     "language": "python",
     "metadata": {},
     "outputs": [
      {
       "metadata": {},
       "output_type": "pyout",
       "prompt_number": 56,
       "text": [
        "9.999999999999998e+16"
       ]
      }
     ],
     "prompt_number": 56
    },
    {
     "cell_type": "markdown",
     "metadata": {},
     "source": [
      "since here the subtraction is *significant* enough to cause a round-off to $10^{17}-10^{17}\\times\\epsilon_{machine}$\n",
      "\n",
      "Tom summarize, computers use a floating point number representation, where **range** *and* **precision** are limited by the allocated memory (bits). The precision is relative and given by $\\epsilon_{machine}$. A nice <a href=\"http://www.mathworks.com/company/newsletters/news_notes/pdf/Fall96Cleve.pdf\">illustration</a> of the absolute spacing between representable floating point numbers is shown below\n",
      "\n",
      "<img src=\"http://blogs.mathworks.com/images/seth/2009Q4/floating_pointCleve.png\" width=\"500\">\n",
      "\n",
      "for a reduced system with only three bits for the fraction and exponent. The numbers on the x-axis are powers of two, and the red lines indicate the scaling of gaps between representable numbers with increasing magnitude. The spacing is the absolute value of $\\epsilon_{machine}$ in that region."
     ]
    },
    {
     "cell_type": "heading",
     "level": 2,
     "metadata": {},
     "source": [
      "Hexadecimal (base 16) numeral system"
     ]
    },
    {
     "cell_type": "markdown",
     "metadata": {},
     "source": [
      "Another numeral system encountered in computer engineering is the hexadecimal, shor hex, system. In very simple terms, it extends the deximal system\n",
      "\n",
      "$0, 1, 2, 3, 4, 5, 6, 7, 8, 9$ by $A, B, C, D, E, F$ (case insensitive), to yield\n",
      "\n",
      "$0, 1, 2, 3, 4, 5, 6, 7, 8, 9, A, B, C, D, E, F$ (16 values)\n",
      "\n",
      "so that the 8-bit hex number $0001E078$ can be represented in exponent format as (starting with the left most non-zero bit)\n",
      "\n",
      "$(1\u2009\u00d7\u200916^4) + (E\u2009\u00d7\u200916^3) + (0\u2009\u00d7\u200916^2) + (7\u2009\u00d7\u200916^1) + (8\u2009\u00d7\u200916^0)$\n",
      "\n",
      "equal to (using decimal counterparts)\n",
      "\n",
      "$(1\u2009\u00d7\u200916^4) + (14\u2009\u00d7\u200916^3) + (0\u2009\u00d7\u200916^2) + (7\u2009\u00d7\u200916^1) + (8\u2009\u00d7\u200916^0)$\n",
      "\n",
      "to yield"
     ]
    },
    {
     "cell_type": "code",
     "collapsed": false,
     "input": [
      "1*16**4 + 14*16**3 + 0*16**2 + 7*16**1 + 8*16**0"
     ],
     "language": "python",
     "metadata": {},
     "outputs": [
      {
       "metadata": {},
       "output_type": "pyout",
       "prompt_number": 57,
       "text": [
        "123000"
       ]
      }
     ],
     "prompt_number": 57
    },
    {
     "cell_type": "heading",
     "level": 2,
     "metadata": {},
     "source": [
      "Floating point (FP) arithemtic \u2260 arithmetic in ${\\rm I\\!R}$, but..."
     ]
    },
    {
     "cell_type": "markdown",
     "metadata": {},
     "source": [
      "We revisit the starting point of this module:"
     ]
    },
    {
     "cell_type": "code",
     "collapsed": false,
     "input": [
      "1.2-1. == 10.2-10."
     ],
     "language": "python",
     "metadata": {},
     "outputs": [
      {
       "metadata": {},
       "output_type": "pyout",
       "prompt_number": 58,
       "text": [
        "False"
       ]
      }
     ],
     "prompt_number": 58
    },
    {
     "cell_type": "markdown",
     "metadata": {},
     "source": [
      "But we know now that it should be within ... exactly, within at $10 \\times \\epsilon_{machine}$\n",
      "So the right *question* should not be: are the results bitwise equal (what the '==' operatore looks at), but are the close enough to account for floating point errors.\n",
      "Fortunately, we're not the first ones to come across that (and chances are for most problems you face in the near future you aren't either). So there is a function out there for a more appropriate comparison:\n"
     ]
    },
    {
     "cell_type": "code",
     "collapsed": false,
     "input": [
      "np.allclose(1.2-1., 10.2-10., rtol=1e-016, atol=1e-15)"
     ],
     "language": "python",
     "metadata": {},
     "outputs": [
      {
       "metadata": {},
       "output_type": "pyout",
       "prompt_number": 59,
       "text": [
        "True"
       ]
      }
     ],
     "prompt_number": 59
    },
    {
     "cell_type": "markdown",
     "metadata": {},
     "source": [
      "This <a href=\"http://docs.scipy.org/doc/numpy/reference/generated/numpy.allclose.html\">method</a> returns $rtol \\times |b| +atol < |a-b|$ with $a=1.2-1.$ and $b=10.2-10.$."
     ]
    },
    {
     "cell_type": "heading",
     "level": 2,
     "metadata": {},
     "source": [
      "Problems"
     ]
    },
    {
     "cell_type": "markdown",
     "metadata": {},
     "source": [
      "1. \n",
      "The FP calculation $v^2$ results in $\\infty$ for what $O(v)$ in double-precision?\n",
      "\n",
      "2. After how many iterations doe you expect \n",
      "```\n",
      "i = 0.\n",
      "while i != 1.:\n",
      "    i = i+0.1\n",
      "```\n",
      "to stop?\n",
      "\n",
      "3. Does the order of floating point operations matter? Check for example \n",
      "```\n",
      "1e-16 + 1 - 1e-16 == 1e-16 - 1e-16 + 1 \n",
      "```\n",
      "\n",
      "4. Write a function that compares two numbers `a, b` to some relative tolerance `rtol`!\n",
      "```\n",
      "def is_equal(a, b, rtol):\n",
      "    pass # here your code\n",
      "```\n",
      "\n",
      "5. What is the FP result of $\\sqrt{1e-16 + 1} - 1$?\n",
      "\n",
      "6. With respect to FP arithmetic, what would be an advantage of using <a href=\"http://en.wikipedia.org/wiki/Dimensionless_quantity\">dimensionless numbers</a>?\n",
      "\n",
      "7. You store a surface map in form of a two-dimensional array with `1E6 x 1E6` <a href=\"http://www.nasa.gov/centers/goddard/earthandsun/mshelenslidar_prt.htm\">height measurement</a> points. How much memory do you need for half-, single- and double-precision? If the measurement accuracy is in the order of 20 cm, and minimum/maximum height measurements are in the order of 100 meters, what precision do you recommend?\n",
      "\n",
      "<img src=\"http://www.nasa.gov/centers/goddard/images/content/67409main_dh2.gif\" width=\"500\">"
     ]
    },
    {
     "cell_type": "code",
     "collapsed": false,
     "input": [],
     "language": "python",
     "metadata": {},
     "outputs": [],
     "prompt_number": 59
    }
   ],
   "metadata": {}
  }
 ]
}