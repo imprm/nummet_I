{
 "metadata": {
  "name": ""
 },
 "nbformat": 3,
 "nbformat_minor": 0,
 "worksheets": [
  {
   "cells": [
    {
     "cell_type": "heading",
     "level": 1,
     "metadata": {},
     "source": [
      "ESE - Numerical Methods I: Loading an Plotting"
     ]
    },
    {
     "cell_type": "markdown",
     "metadata": {},
     "source": [
      "One of the primary purposes of programming is automatization. Whenever you work on data, you should try to avoid any manual intervention such as copying and pasting from one file to another, for example into an excel spreadsheet. This introduces a source of error and severly limits the amount of data you can process. Further, whenever you change parts of your program, it is likely that the manual steps have to be repeated. For all your work on data, good practice is to work on the rawest form of files you get, i.e., the ones supplied by a contractor or produced by the measurement apparatus."
     ]
    },
    {
     "cell_type": "markdown",
     "metadata": {},
     "source": [
      "One of the most important data sources in subsurface geoscience are <a href=\"http://www.ebah.com.br/content/ABAAAfqdcAK/well-logging-for-earth-scientists?part=3\">well logs</a>. These are cylindrical logging tools of a length between one and several dozens of meters that are being run up and down wellbores along a wireline and measure, collect and transmit rock formation data such as electrical resistivity, radiation, temperature and more as a function of depth. This allows for accurate chracterization of lithologic layers, rock properties, oil saturation with a high resolution.\n",
      "\n",
      "<img src=\"http://s3.amazonaws.com/magoo/ABAAAfqdcAK-8.jpg\" width=\"300\">\n",
      "<img src=\"http://s3.amazonaws.com/magoo/ABAAAfqdcAK-7.jpg\" width=\"300\">"
     ]
    },
    {
     "cell_type": "code",
     "collapsed": false,
     "input": [
      "%pylab inline\n",
      "import os\n",
      "import numpy as np\n",
      "from scipy import integrate\n",
      "import matplotlib.pyplot as plt"
     ],
     "language": "python",
     "metadata": {},
     "outputs": [
      {
       "output_type": "stream",
       "stream": "stdout",
       "text": [
        "Populating the interactive namespace from numpy and matplotlib\n"
       ]
      }
     ],
     "prompt_number": 1
    },
    {
     "cell_type": "markdown",
     "metadata": {},
     "source": [
      "A common well log file in the raw *LAS* format looks as follows (we read 55 lines the rest of the data section):"
     ]
    },
    {
     "cell_type": "code",
     "collapsed": false,
     "input": [
      "fname = '1044944685.las'\n",
      "lines_to_display = 55\n",
      "with open(fname, 'r') as f:\n",
      "    for i in range(lines_to_display):\n",
      "        print f.readline().rstrip()"
     ],
     "language": "python",
     "metadata": {},
     "outputs": [
      {
       "output_type": "stream",
       "stream": "stdout",
       "text": [
        "~Version Information\n",
        "VERS.                      2.0: CWLS Log ASCII Standard - VERSION 2.0\n",
        "WRAP.                       NO: One line per depth step\n",
        "~Well Information Block\n",
        "STRT.FT               245.0000: START DEPTH\n",
        "STOP.FT              2530.5000: STOP DEPTH\n",
        "STEP.FT                 0.5000: STEP\n",
        "NULL.                -999.2500: NULL VALUE\n",
        "COMP.          Vess Oil Corporation: COMPANY\n",
        "WELL.            Wilson A #448: WELL\n",
        "FLD.                 El Dorado: FIELD\n",
        "LOC.           330' FNL & 1550' FWL: LOCATION\n",
        "CNTY.                   Butler: COUNTY\n",
        "SRVC.                         : SERVICE COMPANY\n",
        "DATE.          Wed Apr 17 07-22-29 2013: LOG DATE\n",
        "UWI.                          : UNIQUE WELL ID\n",
        "STAT.                   Kansas: STATE\n",
        "SECT.                        9: SECTION\n",
        "TOWN.                      25S: TOWNSHIP\n",
        "RANG.                       5E: RANGE\n",
        "API.           15-015-23969-00-00: API#\n",
        "PDAT.FT           Ground Level: PERMANENT DATUM\n",
        "LMF.FT           Kelly Bushing: LOG MEASURED FROM\n",
        "DMF.FT           Kelly Bushing: DRILLING MEASURED FROM\n",
        "EKB.FT                    1371: KB\n",
        "EDF.FT                        : DF\n",
        "EGL.FT                    1365: GL\n",
        "DATE1.               4/17/2013: DATE1\n",
        "ENGI1.              D. Schmidt: RECORDED BY\n",
        "WITN1.            Roger Martin: WITNESSED BY\n",
        "~Curve Information Block\n",
        "DEPT.FT            0 000 00 00: Depth\n",
        "BVTX.                         :\n",
        "AVTX.                         :\n",
        "DCAL.GAPI          CDL Caliper:\n",
        "RHOB.          CDL Bulk Density:\n",
        "RHOC.          CDL Density Correction:\n",
        "DPOR.          CDL Density Porosity:\n",
        "CNLS.          CN Limestone Porosity:\n",
        "GR.                  Gamma Ray:\n",
        "CILD.          DIL Deep Conductivity:\n",
        "RILD.          DIL Deep Resistivity:\n",
        "RILM.          DIL Medium Resistivity:\n",
        "RLL3.          DIL Shallow Resistivity:\n",
        "RxoRt.                Rxo / Rt:\n",
        "SP.MV          DIL Spontaneous Potential:\n",
        "DGA.           Apparent Grain Density:\n",
        "~Parameter Information Block\n",
        "~A  Depth       BVTX        AVTX        DCAL        RHOB        RHOC        DPOR        CNLS         GR\n",
        "   245.0000      0.0000      0.0000      1.7734      1.8916      0.2025     47.8581     29.3674     52.3655\n",
        "   245.5000      0.0000      0.0000      1.7738      1.9023      0.2070     47.2337     29.6285     49.6518\n",
        "   246.0000      0.0000      0.0000      1.7741      1.9094      0.2103     46.8160     30.6172     47.9509\n",
        "   246.5000      0.0000      0.0000      1.7740      1.9142      0.2122     46.5372     32.2842     50.2727\n",
        "   247.0000      0.0000      0.0000      1.7745      1.9168      0.2133     46.3889     33.6512     52.2234\n",
        "   247.5000      0.0000      0.0000      1.7739      1.9171      0.2146     46.3682     33.4263     50.6780\n"
       ]
      }
     ],
     "prompt_number": 2
    },
    {
     "cell_type": "markdown",
     "metadata": {},
     "source": [
      "We'll try to keep things simpel here. Say we *know* that the data array always starts at line 49, then we can load the entire dataset by using <a href=\"http://docs.scipy.org/doc/numpy/reference/generated/numpy.loadtxt.html\">loadtxt</a>, telling the method to skip everything until then."
     ]
    },
    {
     "cell_type": "code",
     "collapsed": false,
     "input": [
      "las_data = np.loadtxt(fname, skiprows=49)\n",
      "print 'rows, columns:'\n",
      "print las_data.shape\n",
      "print 'values:'\n",
      "print las_data"
     ],
     "language": "python",
     "metadata": {},
     "outputs": [
      {
       "output_type": "stream",
       "stream": "stdout",
       "text": [
        "rows, columns:\n",
        "(4544L, 9L)\n",
        "values:\n",
        "[[  2.45000000e+02   0.00000000e+00   0.00000000e+00 ...,   4.78581000e+01\n",
        "    2.93674000e+01   5.23655000e+01]\n",
        " [  2.45500000e+02   0.00000000e+00   0.00000000e+00 ...,   4.72337000e+01\n",
        "    2.96285000e+01   4.96518000e+01]\n",
        " [  2.46000000e+02   0.00000000e+00   0.00000000e+00 ...,   4.68160000e+01\n",
        "    3.06172000e+01   4.79509000e+01]\n",
        " ..., \n",
        " [  2.51550000e+03   0.00000000e+00   0.00000000e+00 ...,   7.16980000e+00\n",
        "    2.88235000e+01   9.78750000e+00]\n",
        " [  2.51600000e+03   0.00000000e+00   0.00000000e+00 ...,   7.43490000e+00\n",
        "    2.97673000e+01   1.15010000e+00]\n",
        " [  2.51650000e+03   0.00000000e+00   0.00000000e+00 ...,   7.61220000e+00\n",
        "    3.22248000e+01   6.37000000e-02]]\n"
       ]
      }
     ],
     "prompt_number": 3
    },
    {
     "cell_type": "markdown",
     "metadata": {},
     "source": [
      "Which creates a two-dimensional array containing all measurement columns. If we further know that `Depth` is in column 0, and our log of interest `RHOB` is in column 4, we can extract these information"
     ]
    },
    {
     "cell_type": "code",
     "collapsed": false,
     "input": [
      "las_depth = las_data[:,0] # all rows of column 0\n",
      "las_rhob = las_data[:,4]  # all rows of column 4\n",
      "print las_depth\n",
      "print las_rhob"
     ],
     "language": "python",
     "metadata": {},
     "outputs": [
      {
       "output_type": "stream",
       "stream": "stdout",
       "text": [
        "[  245.    245.5   246.  ...,  2515.5  2516.   2516.5]\n",
        "[ 1.8916  1.9023  1.9094 ...,  2.5874  2.5829  2.5798]\n"
       ]
      }
     ],
     "prompt_number": 4
    },
    {
     "cell_type": "markdown",
     "metadata": {},
     "source": [
      "We have now extracted our arrays of interest, and can plot the measured rock density as a function of depth:"
     ]
    },
    {
     "cell_type": "code",
     "collapsed": false,
     "input": [
      "plt.plot(las_rhob, las_depth, color='r')\n",
      "# so that depth, albeit positive, increases downward\n",
      "plt.gca().invert_yaxis()\n",
      "# cosmetics\n",
      "plt.xlim(0.,3.)\n",
      "plt.xlabel('Specific Bulk Density [-]')\n",
      "plt.ylabel('Depth [ft]')\n",
      "plt.show()"
     ],
     "language": "python",
     "metadata": {},
     "outputs": [
      {
       "metadata": {},
       "output_type": "display_data",
       "png": "[encoded data removed]",
       "text": [
        "<matplotlib.figure.Figure at 0x8289e80>"
       ]
      }
     ],
     "prompt_number": 5
    },
    {
     "cell_type": "markdown",
     "metadata": {},
     "source": [
      "We will operate on the extracted data now, and plot the result. The simple operation is\n",
      "\n",
      "$\\sigma(z) = g \\int \\rho dz$\n",
      "\n",
      "to compute the overburden stress resulting from the lithostatic weight. We will therefore first convert the density from specific to $[kg$ $m^{-3}]$ and the depth from $[ft]$ to $[m]$"
     ]
    },
    {
     "cell_type": "code",
     "collapsed": false,
     "input": [
      "rhob = las_rhob*1.0E3\n",
      "depth = las_depth*0.3048"
     ],
     "language": "python",
     "metadata": {},
     "outputs": [],
     "prompt_number": 6
    },
    {
     "cell_type": "markdown",
     "metadata": {},
     "source": [
      "and then use a `scipy` <a href=\"http://docs.scipy.org/doc/scipy-0.14.0/reference/generated/scipy.integrate.cumtrapz.html\">function</a> to perform the integration"
     ]
    },
    {
     "cell_type": "code",
     "collapsed": false,
     "input": [
      "#  sigma(z)          =  g       int              rho    dz\n",
      "overburden_stress_pa = 9.81 * integrate.cumtrapz(rhob, depth, initial=0)\n",
      "overburden_stress_mpa = overburden_stress_pa/1.0E6"
     ],
     "language": "python",
     "metadata": {},
     "outputs": [],
     "prompt_number": 7
    },
    {
     "cell_type": "code",
     "collapsed": false,
     "input": [
      "plt.plot(overburden_stress_mpa, depth, color='r')\n",
      "# so that depth, albeit positive, increases downward\n",
      "plt.gca().invert_yaxis()\n",
      "# cosmetics\n",
      "plt.xlabel('$\\sigma_v$ [MPa]')\n",
      "plt.ylabel('Depth [m]')\n",
      "plt.show()"
     ],
     "language": "python",
     "metadata": {},
     "outputs": [
      {
       "metadata": {},
       "output_type": "display_data",
       "png": "[encoded data removed]",
       "text": [
        "<matplotlib.figure.Figure at 0x84867b8>"
       ]
      }
     ],
     "prompt_number": 8
    },
    {
     "cell_type": "heading",
     "level": 2,
     "metadata": {},
     "source": [
      "Problems"
     ]
    },
    {
     "cell_type": "markdown",
     "metadata": {},
     "source": [
      "The caliper log `DCAL` measures the diamater of the wellbore in [in]. Plot its readings vs depth **from 100 [m]** down to the final depth, and integrate the cross-sectional area to plot the cumulative borehole volume in [m3] vs [m]."
     ]
    },
    {
     "cell_type": "code",
     "collapsed": false,
     "input": [],
     "language": "python",
     "metadata": {},
     "outputs": [],
     "prompt_number": 8
    }
   ],
   "metadata": {}
  }
 ]
}