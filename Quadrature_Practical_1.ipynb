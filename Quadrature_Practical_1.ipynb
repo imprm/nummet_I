{
 "metadata": {
  "name": "",
  "signature": "sha256:29c3f45fa9790b9596eff78055eaf04801747dbe17012bfe0fa0d69d66cba075"
 },
 "nbformat": 3,
 "nbformat_minor": 0,
 "worksheets": [
  {
   "cells": [
    {
     "cell_type": "heading",
     "level": 1,
     "metadata": {},
     "source": [
      "Quadrature practical 1: calculating the mass deficit of a gravity anomaly"
     ]
    },
    {
     "cell_type": "markdown",
     "metadata": {},
     "source": [
      "You have been hired by a mining company to evaluate the results of a gravity survey taken over a potential lead mine in the Morrocan desert. Your job is to tell them how much lead there is, how much it is worth, and to recommend the next action they should take. \n",
      "\n",
      "You will learn much more about gravity surveys in later modules. You don't need to know much about gravity for this practical, but here are a few key things: \n",
      "\n",
      "- A gravity survey measures the gravity anomaly at a point on the Earth (how much it deviates from the standard 9.81 m/s^2. \n",
      "\n",
      "- A positive gravity anomaly means that g is increased. This can be a result of many different features, including latitude, tides, nearby topography, height above sea level, and what we are interested in: near surface density changes.\n",
      "\n",
      "- A wide range of corrections are made to gravity data in order to remove the effect of these other features. Like many geophysical surveys, good quality data is the result of lots of processing.\n",
      "\n",
      "- The units of gravity surveys are reported in milli gals (mgals). 1 mgal = $10^{-5}ms^{-2}$.\n",
      "\n",
      "- The area under the curve of a gravity survey is related to the mass excess/deficit by the equation:\n",
      "\\begin{equation}\n",
      "Mass \\ excess = \\frac{1}{2 \\pi G} \\times Area \\ under \\ curve\n",
      "\\end{equation}\n",
      "($G = $ the gravatational constant, $6.67 \\times 10^{-11} m^3 kg^{-1} s^{-2}$ )\n",
      "\n",
      "As you are now experts in finding the area under the curve, you are well qualified to calculate the excess mass, and therefore the potential profit avaliable to the mining company.\n",
      "\n",
      "Tasks:\n",
      "\n",
      "1. Load the gravity data file \"GravityData.txt\" and plot the gravity anomaly. You should make use of the numpy function \"loadtxt\" to speed up loading the data. \n",
      "2. Compare the gravity anomaly line to the map of the survey line (on the Rock Mechanics Github, img/GravityMap.png). Does the location of the galena outcrop support the hypothesis that the local gravity anomaly is caused by dense mineral deposits?\n",
      "3. Find the area under the curve using your choice of quadrature method. The functions in the lecture notes reqire the curve's function to be known. As we only have data, you should use one of the methods we learned today from numpy: <a href=\"docs.scipy.org/doc/scipy-0.14.0/reference/generated/scipy.integrate.cumtrapz.html#scipy.integrate.cumtrapz\">scipy.cumtrapz</a> or <a href=\"http://docs.scipy.org/doc/scipy-0.14.0/reference/generated/scipy.integrate.simps.html#scipy.integrate.simps\">scipy.simps</a>.\n",
      "4. Convert this to mass using the equation above. Remember to convert from mgals to $ms^{-2}$. Assuming <a href=\"http://en.wikipedia.org/wiki/Lead#Occurrence\"> a lead ore can be economic if it is 3% lead</a>, work out the mass of lead. With the current market value of lead, how much is this deposit worth?\n",
      "5. Have a look at where the survey was taken in 3D on Google Earth. It started at N31.04005, W003.95129 and finished at N31.03553, W003.95004. Is there anything else in the area that might affect the gravity survey? Discuss with the person next to you: what would you recommend the mining company to do based on this survey?"
     ]
    },
    {
     "cell_type": "code",
     "collapsed": false,
     "input": [],
     "language": "python",
     "metadata": {},
     "outputs": []
    }
   ],
   "metadata": {}
  }
 ]
}