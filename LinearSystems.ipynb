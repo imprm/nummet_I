{
 "metadata": {
  "name": ""
 },
 "nbformat": 3,
 "nbformat_minor": 0,
 "worksheets": [
  {
   "cells": [
    {
     "cell_type": "heading",
     "level": 1,
     "metadata": {},
     "source": [
      "ESE - Numerical Methods I: Systems of Linear Equations"
     ]
    },
    {
     "cell_type": "code",
     "collapsed": false,
     "input": [
      "%pylab inline\n",
      "import numpy as np\n",
      "\n",
      "# scipy linear algebra module\n",
      "import scipy.linalg as scal"
     ],
     "language": "python",
     "metadata": {},
     "outputs": [
      {
       "output_type": "stream",
       "stream": "stdout",
       "text": [
        "Populating the interactive namespace from numpy and matplotlib\n"
       ]
      }
     ],
     "prompt_number": 2
    },
    {
     "cell_type": "heading",
     "level": 2,
     "metadata": {},
     "source": [
      "Problems"
     ]
    },
    {
     "cell_type": "markdown",
     "metadata": {},
     "source": [
      "1.)\n",
      "\n",
      "By evaluating the determinant, classify the following matrices as singular, ill conditioned,\n",
      "or well conditioned (using <a href=\"http://docs.scipy.org/doc/scipy/reference/generated/scipy.linalg.det.html#scipy.linalg.det\">`det`</a>)\n",
      "\n",
      "\\begin{equation}\n",
      "A_{1} =\n",
      " \\begin{pmatrix}\n",
      "  1 & 2 & 3 \\\\\n",
      "  2 & 3 & 4 \\\\\n",
      "  3 & 4 & 5\n",
      " \\end{pmatrix}\n",
      "\\end{equation}\n",
      "\n",
      "\\begin{equation}\n",
      "A_{2} =\n",
      " \\begin{pmatrix}\n",
      "  2.11 & -0.80 & 1.77 \\\\\n",
      "  -1.84 & 3.03 & 1.21 \\\\\n",
      "  -1.57 & 5.25 & 4.30\n",
      " \\end{pmatrix}\n",
      "\\end{equation}\n",
      "\n",
      "\\begin{equation}\n",
      "A_{3} =\n",
      " \\begin{pmatrix}\n",
      "  2 & -1 & 0 \\\\\n",
      "  -1 & 2 & -1 \\\\\n",
      "  0 & -1 & 2\n",
      " \\end{pmatrix}\n",
      "\\end{equation}\n",
      "\n",
      "\\begin{equation}\n",
      "A_{4} =\n",
      " \\begin{pmatrix}\n",
      "  4 & 3 & -1 \\\\\n",
      "  7 & -2 & 3 \\\\\n",
      "  5 & -18 & 13\n",
      " \\end{pmatrix}\n",
      "\\end{equation}"
     ]
    },
    {
     "cell_type": "code",
     "collapsed": false,
     "input": [],
     "language": "python",
     "metadata": {},
     "outputs": [],
     "prompt_number": 2
    },
    {
     "cell_type": "markdown",
     "metadata": {},
     "source": [
      "2.)\n",
      "\n",
      "Solve the linear system $A x = b$ for x (using <a href=\"http://docs.scipy.org/doc/scipy/reference/generated/scipy.linalg.solve.html#scipy.linalg.solve\">`solve`</a>). \n",
      "\n",
      "\\begin{equation}\n",
      "A =\n",
      " \\begin{pmatrix}\n",
      "  1 & 2 & 3 \\\\\n",
      "  4 & 5 & 6 \\\\\n",
      "  7 & 8 & 9\n",
      " \\end{pmatrix}\n",
      "\\end{equation}\n",
      "\n",
      "\\begin{equation}\n",
      "b =\n",
      " \\begin{pmatrix}\n",
      "  1  \\\\\n",
      "  2 \\\\\n",
      "  3\n",
      " \\end{pmatrix}\n",
      "\\end{equation}\n",
      "\n",
      "check the solution by assuring that `np.dot(A, x)-b` is numerically equal to `0.`, (using <a href=\"http://docs.scipy.org/doc/numpy/reference/generated/numpy.allclose.html\">`np.allclose`</a>)"
     ]
    },
    {
     "cell_type": "code",
     "collapsed": false,
     "input": [],
     "language": "python",
     "metadata": {},
     "outputs": [],
     "prompt_number": 2
    },
    {
     "cell_type": "markdown",
     "metadata": {},
     "source": [
      "3.)\n",
      "\n",
      "Find $L$ and $U$ for\n",
      "\n",
      "\\begin{equation}\n",
      "A =\n",
      " \\begin{pmatrix}\n",
      "  4 & -1 & 0 \\\\\n",
      "  -1 & 4 & -1 \\\\\n",
      "  0 & -1 & 4\n",
      " \\end{pmatrix}\n",
      "\\end{equation}\n",
      "\n",
      "(using <a href=\"http://docs.scipy.org/doc/scipy/reference/generated/scipy.linalg.lu.html#scipy.linalg.lu\">`lu`</a>)"
     ]
    },
    {
     "cell_type": "code",
     "collapsed": false,
     "input": [],
     "language": "python",
     "metadata": {},
     "outputs": [],
     "prompt_number": 2
    },
    {
     "cell_type": "markdown",
     "metadata": {},
     "source": [
      "4.)\n",
      "\n",
      "Solve the linear system $A x = b$ for x (using the LU factorization <a href=\"http://docs.scipy.org/doc/scipy/reference/generated/scipy.linalg.lu_factor.html#scipy.linalg.lu_factor\">`lu_factor`</a> and LU solver <a href=\"http://docs.scipy.org/doc/scipy/reference/generated/scipy.linalg.lu_solve.html#scipy.linalg.lu_solve\">`lu_solve`</a>). \n",
      "\n",
      "\\begin{equation}\n",
      "A =\n",
      " \\begin{pmatrix}\n",
      "  1 & 2 & 3 \\\\\n",
      "  4 & 5 & 6 \\\\\n",
      "  7 & 8 & 9\n",
      " \\end{pmatrix}\n",
      "\\end{equation}\n",
      "\n",
      "\\begin{equation}\n",
      "b =\n",
      " \\begin{pmatrix}\n",
      "  1  \\\\\n",
      "  2 \\\\\n",
      "  3\n",
      " \\end{pmatrix}\n",
      "\\end{equation}\n",
      "\n",
      "check the solution by assuring that `np.dot(A, x)-b` is numerically equal to `0.`, (using <a href=\"http://docs.scipy.org/doc/numpy/reference/generated/numpy.allclose.html\">`np.allclose`</a>)"
     ]
    },
    {
     "cell_type": "code",
     "collapsed": false,
     "input": [],
     "language": "python",
     "metadata": {},
     "outputs": [],
     "prompt_number": 2
    },
    {
     "cell_type": "markdown",
     "metadata": {},
     "source": [
      "5.) We now know the solution to \n",
      "\n",
      "\\begin{equation}\n",
      "A =\n",
      " \\begin{pmatrix}\n",
      "  2 & 3 & -1 \\\\\n",
      "  3 & 2 & -5 \\\\\n",
      "  1 & 4 & -1\n",
      " \\end{pmatrix}\n",
      "\\end{equation}\n",
      "\n",
      "\\begin{equation}\n",
      "b =\n",
      " \\begin{pmatrix}\n",
      "  1  \\\\\n",
      "  -1 \\\\\n",
      "  2\n",
      " \\end{pmatrix}\n",
      "\\end{equation}\n",
      "\n",
      "is \n",
      "\n",
      "\\begin{equation}\n",
      "x =\n",
      " \\begin{pmatrix}\n",
      "  1.84375  \\\\\n",
      "  0.40652   \\\\\n",
      "  1.46875\n",
      " \\end{pmatrix}\n",
      "\\end{equation}\n",
      "\n",
      "Without using functions from the `linalg` module (but e.g. `np.dot`), complete the code below so that the result is `True`."
     ]
    },
    {
     "cell_type": "code",
     "collapsed": false,
     "input": [
      "A = np.array([[2,-3,-1], [3,2,-5], [1,4,-1]],dtype=np.float) \n",
      "b = np.array([1,-1,2],dtype=np.float)\n",
      "\n",
      "def lu_dec(A):\n",
      "    \"\"\"\n",
      "    Returns the matrix A where [A] = [L\\U], i.e., [U] in the upper triangle and \n",
      "    the nondiagonal terms of [L] in the lower triangle.\n",
      "    \"\"\"\n",
      "    return A\n",
      "\n",
      "def lu_sol(LU,b):\n",
      "    \"\"\"\n",
      "    Returns the solution vector x as from [L][U]{x} = b, where [a] = [L\\U] is the matrix\n",
      "    returned from lu_dec.\n",
      "    \"\"\"\n",
      "    return b\n",
      "\n",
      "LU = lu_dec(A)\n",
      "x = lu_sol(LU, b)\n",
      "np.allclose(x, [1.84375,0.40625,1.46875])"
     ],
     "language": "python",
     "metadata": {},
     "outputs": [
      {
       "metadata": {},
       "output_type": "pyout",
       "prompt_number": 3,
       "text": [
        "False"
       ]
      }
     ],
     "prompt_number": 3
    },
    {
     "cell_type": "code",
     "collapsed": false,
     "input": [],
     "language": "python",
     "metadata": {},
     "outputs": [],
     "prompt_number": 3
    }
   ],
   "metadata": {}
  }
 ]
}