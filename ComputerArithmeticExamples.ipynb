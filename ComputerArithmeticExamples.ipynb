{
 "metadata": {
  "name": ""
 },
 "nbformat": 3,
 "nbformat_minor": 0,
 "worksheets": [
  {
   "cells": [
    {
     "cell_type": "heading",
     "level": 1,
     "metadata": {},
     "source": [
      "ESE - Numerical Methods I: Basics of Computer Arithmetic - Examples"
     ]
    },
    {
     "cell_type": "heading",
     "level": 2,
     "metadata": {},
     "source": [
      "Integers"
     ]
    },
    {
     "cell_type": "markdown",
     "metadata": {},
     "source": [
      "1. Express the number `140` as a binary (base 2) sequence (manually)! How many bits do you need?\n",
      "2. Express the number `16` as a binary (base 2) sequence (use `'{0:b}'.format(16)`)! How many bits do you need?\n",
      "3. Add `140` and `16` in binary (manually)!\n",
      "4. Using 8 bits (no sign bit) to represent `140`, what would be the largest number you can add without causing overflow?\n",
      "4. Subtract `16` from `120` in binary!"
     ]
    },
    {
     "cell_type": "markdown",
     "metadata": {},
     "source": [
      "**Express the number `140` as a binary (base 2) sequence! How many bits do you need?**\n",
      "\n",
      "as a <a href=\"http://nbviewer.ipython.org/github/imprm/nummet_I/blob/master/ComputerArithmetic.ipynb\">reminder</a> (8 bit):\n",
      "\n",
      "<table>\n",
      "<tr>\n",
      "<th>$2^7$</th>\n",
      "<th>$2^6$</th>\n",
      "<th>$2^5$</th>\n",
      "<th>$2^4$</th>\n",
      "<th>$2^3$</th>\n",
      "<th>$2^2$</th>\n",
      "<th>$2^1$</th>\n",
      "<th>$2^0$</th>\n",
      "</tr>\n",
      "<tr>\n",
      "<td>$0$</td>\n",
      "<td>$0$</td>\n",
      "<td>$0$</td>\n",
      "<td>$0$</td>\n",
      "<td>$0$</td>\n",
      "<td>$0$</td>\n",
      "<td>$0$</td>\n",
      "<td>$0$</td>\n",
      "</tr>\n",
      "</table>\n",
      "\n",
      "Let's see if 8 bit (largest factor = $2^7$) is enough:"
     ]
    },
    {
     "cell_type": "code",
     "collapsed": false,
     "input": [
      "print 140/2**8"
     ],
     "language": "python",
     "metadata": {},
     "outputs": [
      {
       "output_type": "stream",
       "stream": "stdout",
       "text": [
        "0\n"
       ]
      }
     ],
     "prompt_number": 13
    },
    {
     "cell_type": "markdown",
     "metadata": {},
     "source": [
      "so we know that an 8 bit representation suffices. Now let's split `140` in base two components:"
     ]
    },
    {
     "cell_type": "code",
     "collapsed": false,
     "input": [
      "print 140/2**7\n",
      "print 140%2**7"
     ],
     "language": "python",
     "metadata": {},
     "outputs": [
      {
       "output_type": "stream",
       "stream": "stdout",
       "text": [
        "1\n",
        "12\n"
       ]
      }
     ],
     "prompt_number": 15
    },
    {
     "cell_type": "code",
     "collapsed": false,
     "input": [
      "print 12/2**6\n",
      "print 12%2**6"
     ],
     "language": "python",
     "metadata": {},
     "outputs": [
      {
       "output_type": "stream",
       "stream": "stdout",
       "text": [
        "0\n",
        "12\n"
       ]
      }
     ],
     "prompt_number": 16
    },
    {
     "cell_type": "code",
     "collapsed": false,
     "input": [
      "print 12/2**5\n",
      "print 12%2**5"
     ],
     "language": "python",
     "metadata": {},
     "outputs": [
      {
       "output_type": "stream",
       "stream": "stdout",
       "text": [
        "0\n",
        "12\n"
       ]
      }
     ],
     "prompt_number": 17
    },
    {
     "cell_type": "code",
     "collapsed": false,
     "input": [
      "print 12/2**4\n",
      "print 12%2**4"
     ],
     "language": "python",
     "metadata": {},
     "outputs": [
      {
       "output_type": "stream",
       "stream": "stdout",
       "text": [
        "0\n",
        "12\n"
       ]
      }
     ],
     "prompt_number": 18
    },
    {
     "cell_type": "code",
     "collapsed": false,
     "input": [
      "print 12/2**3\n",
      "print 12%2**3"
     ],
     "language": "python",
     "metadata": {},
     "outputs": [
      {
       "output_type": "stream",
       "stream": "stdout",
       "text": [
        "1\n",
        "4\n"
       ]
      }
     ],
     "prompt_number": 19
    },
    {
     "cell_type": "code",
     "collapsed": false,
     "input": [
      "print 4/2**2\n",
      "print 4%2**2"
     ],
     "language": "python",
     "metadata": {},
     "outputs": [
      {
       "output_type": "stream",
       "stream": "stdout",
       "text": [
        "1\n",
        "0\n"
       ]
      }
     ],
     "prompt_number": 20
    },
    {
     "cell_type": "markdown",
     "metadata": {},
     "source": [
      "so that our result is:\n",
      "\n",
      "<table>\n",
      "<tr>\n",
      "<th>$2^7$</th>\n",
      "<th>$2^6$</th>\n",
      "<th>$2^5$</th>\n",
      "<th>$2^4$</th>\n",
      "<th>$2^3$</th>\n",
      "<th>$2^2$</th>\n",
      "<th>$2^1$</th>\n",
      "<th>$2^0$</th>\n",
      "</tr>\n",
      "<tr>\n",
      "<td>$1$</td>\n",
      "<td>$0$</td>\n",
      "<td>$0$</td>\n",
      "<td>$0$</td>\n",
      "<td>$1$</td>\n",
      "<td>$1$</td>\n",
      "<td>$0$</td>\n",
      "<td>$0$</td>\n",
      "</tr>\n",
      "</table>"
     ]
    },
    {
     "cell_type": "markdown",
     "metadata": {},
     "source": [
      "**Express the number `16` as a binary (base 2) sequence! How many bits do you need?**\n",
      "\n",
      "Python has a built-in formatter for this purpose:"
     ]
    },
    {
     "cell_type": "code",
     "collapsed": false,
     "input": [
      "# meaning: take the 0th value from within the parenthesis and format it as 'b', which stands for binary\n",
      "'{0:b}'.format(16)"
     ],
     "language": "python",
     "metadata": {},
     "outputs": [
      {
       "metadata": {},
       "output_type": "pyout",
       "prompt_number": 34,
       "text": [
        "'10000'"
       ]
      }
     ],
     "prompt_number": 34
    },
    {
     "cell_type": "markdown",
     "metadata": {},
     "source": [
      "**Add `140` and `16` in binary!**"
     ]
    },
    {
     "cell_type": "markdown",
     "metadata": {},
     "source": [
      "<table>\n",
      "<tr>\n",
      "<th>$1$</th>\n",
      "<th>$0$</th>\n",
      "<th>$0$</th>\n",
      "<th>$0$</th>\n",
      "<th>$1$</th>\n",
      "<th>$1$</th>\n",
      "<th>$0$</th>\n",
      "<th>$0$</th>\n",
      "</tr>\n",
      "<tr>\n",
      "<td>$0$</td>\n",
      "<td>$0$</td>\n",
      "<td>$0$</td>\n",
      "<td>$1$</td>\n",
      "<td>$0$</td>\n",
      "<td>$0$</td>\n",
      "<td>$0$</td>\n",
      "<td>$0$</td>\n",
      "</tr>\n",
      "<tr>\n",
      "<td>$1$</td>\n",
      "<td>$0$</td>\n",
      "<td>$0$</td>\n",
      "<td>$1$</td>\n",
      "<td>$1$</td>\n",
      "<td>$1$</td>\n",
      "<td>$0$</td>\n",
      "<td>$0$</td>\n",
      "</tr>\n",
      "</table>\n",
      "\n",
      "so that"
     ]
    },
    {
     "cell_type": "code",
     "collapsed": false,
     "input": [
      "print 1*2**7 + 0*2**6 + 0*2**5 + 1*2**4 + 1*2**3 + 1*2**2 + 0*2**1 + 0*2**0\n",
      "# and to check\n",
      "\"{0:b}\".format(156)"
     ],
     "language": "python",
     "metadata": {},
     "outputs": [
      {
       "output_type": "stream",
       "stream": "stdout",
       "text": [
        "156\n"
       ]
      }
     ],
     "prompt_number": 33
    },
    {
     "cell_type": "markdown",
     "metadata": {},
     "source": [
      "**Using 8 bits (no sign bit) to represent `140`, what would be the largest number you can add without causing overflow?**\n",
      "\n",
      "we can check that manually"
     ]
    },
    {
     "cell_type": "code",
     "collapsed": false,
     "input": [
      "print 1*2**7 + 1*2**6 + 1*2**5 + 1*2**4 + 1*2**3 + 1*2**2 + 1*2**1 + 1*2**0"
     ],
     "language": "python",
     "metadata": {},
     "outputs": [
      {
       "output_type": "stream",
       "stream": "stdout",
       "text": [
        "255\n"
       ]
      }
     ],
     "prompt_number": 35
    },
    {
     "cell_type": "markdown",
     "metadata": {},
     "source": [
      "or <a href=\"http://docs.scipy.org/doc/numpy/user/basics.types.html\">here</a> under `uint8`, for unsigned integers. The largest number we can add is therefore `155` to yield:"
     ]
    },
    {
     "cell_type": "code",
     "collapsed": false,
     "input": [
      "\"{0:b}\".format(255)"
     ],
     "language": "python",
     "metadata": {},
     "outputs": [
      {
       "metadata": {},
       "output_type": "pyout",
       "prompt_number": 36,
       "text": [
        "'11111111'"
       ]
      }
     ],
     "prompt_number": 36
    },
    {
     "cell_type": "markdown",
     "metadata": {},
     "source": [
      "**Subtract 16 from 120 in binary!**\n",
      "\n",
      "We know that"
     ]
    },
    {
     "cell_type": "code",
     "collapsed": false,
     "input": [
      "'{0:b}'.format(120)"
     ],
     "language": "python",
     "metadata": {},
     "outputs": [
      {
       "metadata": {},
       "output_type": "pyout",
       "prompt_number": 40,
       "text": [
        "'1111000'"
       ]
      }
     ],
     "prompt_number": 40
    },
    {
     "cell_type": "markdown",
     "metadata": {},
     "source": [
      "and"
     ]
    },
    {
     "cell_type": "code",
     "collapsed": false,
     "input": [
      "'{0:b}'.format(16)"
     ],
     "language": "python",
     "metadata": {},
     "outputs": [
      {
       "metadata": {},
       "output_type": "pyout",
       "prompt_number": 41,
       "text": [
        "'10000'"
       ]
      }
     ],
     "prompt_number": 41
    },
    {
     "cell_type": "markdown",
     "metadata": {},
     "source": [
      "Subtraction is implemented as assition of the negative number; to get the negativ representation of an integer we invert all bits and add `1`:\n",
      "\n",
      "```\n",
      "16  = 00010000\n",
      "\n",
      "-16 = 11101111 + 00000001 = 11110000\n",
      "```\n",
      "\n",
      "<table>\n",
      "<tr>\n",
      "<th>$0$</th>\n",
      "<th>$1$</th>\n",
      "<th>$1$</th>\n",
      "<th>$1$</th>\n",
      "<th>$1$</th>\n",
      "<th>$0$</th>\n",
      "<th>$0$</th>\n",
      "<th>$0$</th>\n",
      "</tr>\n",
      "<tr>\n",
      "<td>$1$</td>\n",
      "<td>$1$</td>\n",
      "<td>$1$</td>\n",
      "<td>$1$</td>\n",
      "<td>$0$</td>\n",
      "<td>$0$</td>\n",
      "<td>$0$</td>\n",
      "<td>$0$</td>\n",
      "</tr>\n",
      "<tr>\n",
      "<td>$0$</td>\n",
      "<td>$1$</td>\n",
      "<td>$1$</td>\n",
      "<td>$0$</td>\n",
      "<td>$1$</td>\n",
      "<td>$0$</td>\n",
      "<td>$0$</td>\n",
      "<td>$0$</td>\n",
      "</tr>\n",
      "</table>\n",
      "\n",
      "\n",
      "which we can check (since we now have a sign bit the maximum power reduces from 7 to 6):"
     ]
    },
    {
     "cell_type": "code",
     "collapsed": false,
     "input": [
      "print 1*2**6 + 1*2**5 + 0*2**4 + 1*2**3 + 0*2**2 + 0*2**1 + 0*2**0"
     ],
     "language": "python",
     "metadata": {},
     "outputs": [
      {
       "output_type": "stream",
       "stream": "stdout",
       "text": [
        "104\n"
       ]
      }
     ],
     "prompt_number": 43
    },
    {
     "cell_type": "heading",
     "level": 2,
     "metadata": {},
     "source": [
      "Floating Points"
     ]
    },
    {
     "cell_type": "markdown",
     "metadata": {},
     "source": [
      "1. <a href=\"http://www.madirish.net/240\">Convert</a> the number `75.75` to binary (single-precision)!"
     ]
    },
    {
     "cell_type": "code",
     "collapsed": false,
     "input": [],
     "language": "python",
     "metadata": {},
     "outputs": []
    }
   ],
   "metadata": {}
  }
 ]
}