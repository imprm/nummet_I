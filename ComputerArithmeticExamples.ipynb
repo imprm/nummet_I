{
 "metadata": {
  "name": ""
 },
 "nbformat": 3,
 "nbformat_minor": 0,
 "worksheets": [
  {
   "cells": [
    {
     "cell_type": "heading",
     "level": 1,
     "metadata": {},
     "source": [
      "ESE - Numerical Methods I: Basics of Computer Arithmetic - Examples"
     ]
    },
    {
     "cell_type": "heading",
     "level": 2,
     "metadata": {},
     "source": [
      "Integers"
     ]
    },
    {
     "cell_type": "markdown",
     "metadata": {},
     "source": [
      "1. Express the number `140` as a binary (base 2) sequence (manually)! How many bits do you need?\n",
      "2. Express the number `16` as a binary (base 2) sequence (use `'{0:b}'.format(16)`)! How many bits do you need?\n",
      "3. Add `140` and `16` in binary (manually)!\n",
      "4. Using 8 bits (no sign bit) to represent `140`, what would be the largest number you can add without causing overflow?\n",
      "4. Subtract `16` from `120` in binary!"
     ]
    },
    {
     "cell_type": "code",
     "collapsed": false,
     "input": [
      "print 140/2**7\n",
      "print 140%2**7"
     ],
     "language": "python",
     "metadata": {},
     "outputs": [
      {
       "output_type": "stream",
       "stream": "stdout",
       "text": [
        "1\n",
        "12\n"
       ]
      }
     ],
     "prompt_number": 18
    },
    {
     "cell_type": "code",
     "collapsed": false,
     "input": [
      "print '{0:b}'.format(16)"
     ],
     "language": "python",
     "metadata": {},
     "outputs": [
      {
       "output_type": "stream",
       "stream": "stdout",
       "text": [
        "10000\n"
       ]
      }
     ],
     "prompt_number": 32
    },
    {
     "cell_type": "heading",
     "level": 2,
     "metadata": {},
     "source": [
      "Floating Points"
     ]
    },
    {
     "cell_type": "markdown",
     "metadata": {},
     "source": [
      "<img src=\"files/img/float_to_binary.png\" width=\"700\">\n",
      "\n",
      "1. <a href=\"http://www.madirish.net/240\">Convert</a> the number `75.75` to binary (single-precision)!"
     ]
    },
    {
     "cell_type": "code",
     "collapsed": false,
     "input": [
      "print '{0:b}'.format(25)"
     ],
     "language": "python",
     "metadata": {},
     "outputs": [
      {
       "output_type": "stream",
       "stream": "stdout",
       "text": [
        "11001\n"
       ]
      }
     ],
     "prompt_number": 33
    },
    {
     "cell_type": "code",
     "collapsed": false,
     "input": [],
     "language": "python",
     "metadata": {},
     "outputs": []
    }
   ],
   "metadata": {}
  }
 ]
}