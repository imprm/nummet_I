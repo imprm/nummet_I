{
 "metadata": {
  "name": "",
  "signature": "sha256:a7b325e554ec54a0aedf06932068dfb24777da2f0cec096241744aa1987cdac8"
 },
 "nbformat": 3,
 "nbformat_minor": 0,
 "worksheets": [
  {
   "cells": [
    {
     "cell_type": "heading",
     "level": 1,
     "metadata": {},
     "source": [
      "Quadrature practical 2 - quadrature rules"
     ]
    },
    {
     "cell_type": "markdown",
     "metadata": {},
     "source": [
      "1. Integrate $f(x) = 2x^3$ between 1 and 5. \n",
      "2. With two equal intervals, use the midpoint and trapezoid and to approximate $f(x)$. Show that the midpoint rule is roughly twice as accurate as the trapezoid rule.\n",
      "3. Demonstrate that Simpson's rule integrates cubics exactly by calculating it for $f(x)$ with two intervals.\n",
      "4. Show that Simpson's Composite Rule and Weddle's rule both produce the same result.\n",
      "5. Show that the two forms of Simpson's rule are equivalent:\n",
      "\n",
      "\\begin{equation}\n",
      "S = \\frac{2}{3}M + \\frac{1}{3}T\n",
      "\\end{equation}\n",
      "\n",
      "\\begin{equation}\n",
      "S = \\frac{h}{6}\\left ( f \\left ( a\\right ) + 4f \\left ( c\\right ) + f\\left ( b\\right )\\right )\n",
      "\\end{equation}"
     ]
    },
    {
     "cell_type": "code",
     "collapsed": false,
     "input": [],
     "language": "python",
     "metadata": {},
     "outputs": []
    }
   ],
   "metadata": {}
  }
 ]
}