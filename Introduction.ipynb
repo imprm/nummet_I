{
 "metadata": {
  "name": ""
 },
 "nbformat": 3,
 "nbformat_minor": 0,
 "worksheets": [
  {
   "cells": [
    {
     "cell_type": "heading",
     "level": 1,
     "metadata": {},
     "source": [
      "ESE - Numerical Methods I"
     ]
    },
    {
     "cell_type": "heading",
     "level": 2,
     "metadata": {},
     "source": [
      "Overview"
     ]
    },
    {
     "cell_type": "markdown",
     "metadata": {},
     "source": [
      "The objective of this course is to understand what a numerical method is and what it can be used for. We will study together a variety of numerical methods that are used to solve equations and analyse experimental data. We will approach each topic from a practical perspective, covering for each motivation, method, and application.\n",
      "\n",
      "The course will make extensive use of Python, specifically, we will learn how to use SciPy, Matplotlib, and Pandas. The course will be driven using iPython Notebooks which you will be able to run and edit locally on your computer (no worries, you are an expert on iPython Notebooks as you will have taken G. Gorman's excellent 'Programming for Geoscientists' class!).\n",
      "\n",
      "We will have eight sessions, every Monday from 2:00 to 4:45pm. Every lecture we will take a **coffee break** (we will try to break after 2pm and before 3pm). Each session will blend theory and practice. I will introduce concepts, then we will use python to understand **how the methods work** and how and when we can **apply** them. We will complete all the work during class, and there will be only one (!) **final assignment**.\n",
      "\n",
      "All course material will be posted online through ESESIS. If you have any questions after class, please contact me by e-mail (apaluszn@imperial.ac.uk). Office hours will be Tuesday morning 10:00 - 11:00am (at RSM 2.48)."
     ]
    },
    {
     "cell_type": "heading",
     "level": 2,
     "metadata": {},
     "source": [
      "What is a numerical method?"
     ]
    },
    {
     "cell_type": "markdown",
     "metadata": {},
     "source": [
      "Numerical methods are used to analyse numerical data. In many cases, methods are used to find solutions that cannot be computed \"analytically\" (by using ready-made equations), or to analyse \"discrete\" data such as the output of a lab experiment or the observations over time of some property. Numerical methods are techniques used to approximate solutions, so they rarely provide an exact solution - but a \"good\" estimate of the solution. In many cases, it is the only way of obtaining a solution!\n",
      "\n",
      "In dealing with numerical methods, the main concerns are\n",
      "\n",
      "* performance (how long solutions take to compute) and\n",
      "* accuracy of the solution (what is the error in our approximation).\n",
      "\n",
      "Specific numerical methods can be used to interpolate data, compute approximate derivatives, integrate functions, among others. There are special libraries dedicated to implement these \"solutions\", in Python the library is called SciPy. In this class you will learn\n",
      "\n",
      "* what numerical methods are available and what are their advantages and disadvantages\n",
      "* how to use SciPy to solve a variety of problems numerically\n",
      "* how to evaluate the numerical solutions that you obtain\n",
      "\n",
      "Numerical Methods will be very useful in your career in almost any path you take! May it be when analysing lab data, making sense of observations in the field, or writing complex simulators; chances are you will end up using them on a daily basis."
     ]
    },
    {
     "cell_type": "heading",
     "level": 2,
     "metadata": {},
     "source": [
      "Outline"
     ]
    },
    {
     "cell_type": "markdown",
     "metadata": {},
     "source": [
      "1. <a href=\"http://nbviewer.ipython.org/github/imprm/nummet_I/blob/master/LoadingPlotting.ipynb\">Loading and Plotting data</a>. <a href=\"http://nbviewer.ipython.org/github/imprm/nummet_I/blob/master/ComputerArithmetic.ipynb\">Numerical Errors</a>. <a href=\"http://nbviewer.ipython.org/github/imprm/nummet_I/blob/master/ComputerArithmeticExamples.ipynb\">Examples</a>.\n",
      "2. <a href=\"http://nbviewer.ipython.org/github/imprm/nummet_I/blob/master/NonLinearRoots.ipynb\">Roots of nonlinear equations</a>. Methods: Incremental Search, Bisection, False Position, Secant, and Newton-Raphson. (`optimize`)\n",
      "3. <a href=\"http://nbviewer.ipython.org/github/imprm/nummet_I/blob/master/CurvefittingInterpolation.ipynb\">Curve Fitting. Interpolation.</a> (`optimize`, `interpolate`). General Least Squares Fitting. Fitting functions: polynomial, exponential, non-linear. (`leastsq`)\n",
      "4. Solving simultaneous linear equations. Gaussian elimination. Pivoting. Tri-diagonal systems. Norms and Condition Number. (`linalg`)\n",
      "5. <a href=\"http://nbviewer.ipython.org/github/imprm/nummet_I/blob/master/Quadrature.ipynb\">Numerical Integration - Quadrature rules:</a> rectangle, trapezoid, Simpson\u2019s Rule. (`integrate`)\n"
     ]
    },
    {
     "cell_type": "heading",
     "level": 2,
     "metadata": {},
     "source": [
      "Tools: (Python) SciPy and MatPlotLib"
     ]
    },
    {
     "cell_type": "markdown",
     "metadata": {},
     "source": [
      "We will learn how numerical methods work, and what they are used for. We will use the Python SciPy library to execute implementations of the numerical methods that we discuss (in other words: SciPy is a large collection of programmes that execute numerical methods, like a super-powerful calculator!). We will use the Python library MatPlotLib to plot the data we analyse.\n",
      "\n",
      "We will use **NumPy** as an underlying library to define some of the objects we use, such as polynomials (poly1d) and arrays.\n",
      "\n",
      "From the **SciPy** Manual: \"SciPy is a collection of mathematical algorithms and convenience functions built on the Numpy extension of Python. It adds significant power to the interactive Python session by providing the user with high-level commands and classes for manipulating and visualizing data. With SciPy an interactive Python session becomes a data-processing and system-prototyping environment rivaling sytems such as MATLAB, IDL, Octave, R-Lab, and SciLab.\" An important source of information on SciPy is the Reference Manual and its Tutorials, see: <a href=\"http://docs.scipy.org/doc/scipy/reference/tutorial/index.html\">SciPy</a> Tutorial.\n",
      "\n",
      "From the **MatPlotLib** website: \"matplotlib is a python 2D plotting library which produces publication quality figures in a variety of hardcopy formats and interactive \". In particular, we will be using PyPlot, a collection of specific commands that make plotting simpler (see <a href=\"http://matplotlib.org/users/pyplot_tutorial.html\">PyPlot</a> Tutorial).\n",
      "\n",
      "In this course, we assume that you already have some basic Python skills (see: <a href=\"http://ipython.org/install.html\">How to install Python</a>). However, for most exercises example code will be provided. The two exercise sessions on Week 4 and 8 will be dedicated to practising what we learn about Numerical Methods, and learning how to apply them to analyse data."
     ]
    },
    {
     "cell_type": "heading",
     "level": 2,
     "metadata": {},
     "source": [
      "Setting up NumPy, SciPy, and MatPlotLib"
     ]
    },
    {
     "cell_type": "code",
     "collapsed": false,
     "input": [
      "%pylab inline\n",
      "import numpy as np\n",
      "import scipy as sp\n",
      "import matplotlib.pyplot as plt"
     ],
     "language": "python",
     "metadata": {},
     "outputs": [
      {
       "output_type": "stream",
       "stream": "stdout",
       "text": [
        "Populating the interactive namespace from numpy and matplotlib\n"
       ]
      }
     ],
     "prompt_number": 1
    },
    {
     "cell_type": "heading",
     "level": 2,
     "metadata": {},
     "source": [
      "SciPy packages"
     ]
    },
    {
     "cell_type": "markdown",
     "metadata": {},
     "source": [
      "SciPy is organised into packages. We will only review the following:\n",
      "\n",
      "    - io\n",
      "    - interpolate\n",
      "    - optimize\n",
      "    - linalg"
     ]
    },
    {
     "cell_type": "heading",
     "level": 2,
     "metadata": {},
     "source": [
      "Arrays (numpy)"
     ]
    },
    {
     "cell_type": "markdown",
     "metadata": {},
     "source": [
      "Arrays can be used to store data. For example:"
     ]
    },
    {
     "cell_type": "code",
     "collapsed": false,
     "input": [
      "a=np.array([100,3,-5,0.15])\n",
      "print a"
     ],
     "language": "python",
     "metadata": {},
     "outputs": [
      {
       "output_type": "stream",
       "stream": "stdout",
       "text": [
        "[ 100.      3.     -5.      0.15]\n"
       ]
      }
     ],
     "prompt_number": 2
    },
    {
     "cell_type": "code",
     "collapsed": false,
     "input": [
      "b=np.array([40,13,-5,7,9])\n",
      "print b"
     ],
     "language": "python",
     "metadata": {},
     "outputs": [
      {
       "output_type": "stream",
       "stream": "stdout",
       "text": [
        "[40 13 -5  7  9]\n"
       ]
      }
     ],
     "prompt_number": 3
    },
    {
     "cell_type": "code",
     "collapsed": false,
     "input": [
      "plt.plot(a)\n",
      "plt.ylabel('some numbers')\n",
      "plt.show()"
     ],
     "language": "python",
     "metadata": {},
     "outputs": [
      {
       "metadata": {},
       "output_type": "display_data",
       "png": "[encoded data removed]",
       "text": [
        "<matplotlib.figure.Figure at 0x7eb8400>"
       ]
      }
     ],
     "prompt_number": 4
    },
    {
     "cell_type": "markdown",
     "metadata": {},
     "source": [
      "The command 'plot' can be used to plot data onto the screen. Its documentation can be found here: http://matplotlib.org/api/pyplot_api.html#matplotlib.pyplot.plot. In general, plot takes either one argument (data points directly), or two arguments (two arrays of datapoints - such as x,y), and it takes successively parameters that define the colors and symbols to be used in the plot. So, adding 'r' will make the data red, adding 'b' will make it blue, adding '-' will make sure its a line, adding 'o' will make it plot as circles, and so on. And if you want to plot multiple datasets on one plot, you just continue to add information onto the command line."
     ]
    },
    {
     "cell_type": "code",
     "collapsed": false,
     "input": [
      "plt.plot(a, 'ro', b, 'b-')\n",
      "plt.show()"
     ],
     "language": "python",
     "metadata": {},
     "outputs": [
      {
       "metadata": {},
       "output_type": "display_data",
       "png": "[encoded data removed]",
       "text": [
        "<matplotlib.figure.Figure at 0x7ecfd68>"
       ]
      }
     ],
     "prompt_number": 5
    },
    {
     "cell_type": "code",
     "collapsed": false,
     "input": [
      "c=np.arange(10)\n",
      "print c"
     ],
     "language": "python",
     "metadata": {},
     "outputs": [
      {
       "output_type": "stream",
       "stream": "stdout",
       "text": [
        "[0 1 2 3 4 5 6 7 8 9]\n"
       ]
      }
     ],
     "prompt_number": 6
    },
    {
     "cell_type": "code",
     "collapsed": false,
     "input": [
      "d=np.arange(0,10,0.5)\n",
      "print d"
     ],
     "language": "python",
     "metadata": {},
     "outputs": [
      {
       "output_type": "stream",
       "stream": "stdout",
       "text": [
        "[ 0.   0.5  1.   1.5  2.   2.5  3.   3.5  4.   4.5  5.   5.5  6.   6.5  7.\n",
        "  7.5  8.   8.5  9.   9.5]\n"
       ]
      }
     ],
     "prompt_number": 7
    },
    {
     "cell_type": "code",
     "collapsed": false,
     "input": [
      "e=np.random.rand(20)\n",
      "print e"
     ],
     "language": "python",
     "metadata": {},
     "outputs": [
      {
       "output_type": "stream",
       "stream": "stdout",
       "text": [
        "[ 0.27177748  0.30166386  0.9577788   0.74645191  0.25017223  0.43295796\n",
        "  0.56341258  0.96661882  0.31703513  0.87176957  0.88314891  0.16863722\n",
        "  0.91600137  0.07045681  0.77285472  0.62513014  0.10897923  0.61134761\n",
        "  0.23990097  0.82380901]\n"
       ]
      }
     ],
     "prompt_number": 8
    },
    {
     "cell_type": "code",
     "collapsed": false,
     "input": [
      "plt.plot(d, e, '-', np.random.randint(0,10,100), np.random.rand(100), 'ro')\n",
      "plt.ylabel('y')\n",
      "plt.xlabel('x')\n",
      "plt.show()"
     ],
     "language": "python",
     "metadata": {},
     "outputs": [
      {
       "metadata": {},
       "output_type": "display_data",
       "png": "[encoded data removed]",
       "text": [
        "<matplotlib.figure.Figure at 0x7fb5c50>"
       ]
      }
     ],
     "prompt_number": 9
    },
    {
     "cell_type": "heading",
     "level": 2,
     "metadata": {},
     "source": [
      "Polynomials (numpy.poly1d)"
     ]
    },
    {
     "cell_type": "markdown",
     "metadata": {},
     "source": [
      "Data and functions can also be respresented using **polynomials**. A simple way of expressing a polynomial using Python is to use the **poly1d** class (from Numpy). This class constructs a polynomial of one variable, the poly1d polynomials can be initialised using a list of the polynomial coefficients. The polynomial can then be added, substracted, multiplied, differentiated, integrated, evaluated, etc. using in-built functions. Poly1D objects can even be printed to screen like a polynomial:\n",
      "\n",
      "Poly1D Documentation can be found here: <a href=\"http://docs.scipy.org/doc/numpy/reference/generated/numpy.poly1d.html\">poly1d</a>\n",
      "\n",
      "A polynomial can be defined using its coefficients:"
     ]
    },
    {
     "cell_type": "code",
     "collapsed": false,
     "input": [
      "p = poly1d([10,-2,3])\n",
      "print p"
     ],
     "language": "python",
     "metadata": {},
     "outputs": [
      {
       "output_type": "stream",
       "stream": "stdout",
       "text": [
        "    2\n",
        "10 x - 2 x + 3\n"
       ]
      }
     ],
     "prompt_number": 10
    },
    {
     "cell_type": "code",
     "collapsed": false,
     "input": [
      "q = poly1d([3,4,5],True)\n",
      "print q"
     ],
     "language": "python",
     "metadata": {},
     "outputs": [
      {
       "output_type": "stream",
       "stream": "stdout",
       "text": [
        "   3      2\n",
        "1 x - 12 x + 47 x - 60\n"
       ]
      }
     ],
     "prompt_number": 11
    },
    {
     "cell_type": "markdown",
     "metadata": {},
     "source": [
      "Polynomials can be 'operated', they can be summed, substracted, multiplied with each other."
     ]
    },
    {
     "cell_type": "code",
     "collapsed": false,
     "input": [
      "print p*q"
     ],
     "language": "python",
     "metadata": {},
     "outputs": [
      {
       "output_type": "stream",
       "stream": "stdout",
       "text": [
        "    5       4       3       2\n",
        "10 x - 122 x + 497 x - 730 x + 261 x - 180\n"
       ]
      }
     ],
     "prompt_number": 12
    },
    {
     "cell_type": "code",
     "collapsed": false,
     "input": [
      "print p+q"
     ],
     "language": "python",
     "metadata": {},
     "outputs": [
      {
       "output_type": "stream",
       "stream": "stdout",
       "text": [
        "   3     2\n",
        "1 x - 2 x + 45 x - 57\n"
       ]
      }
     ],
     "prompt_number": 13
    },
    {
     "cell_type": "code",
     "collapsed": false,
     "input": [
      "print p.deriv()"
     ],
     "language": "python",
     "metadata": {},
     "outputs": [
      {
       "output_type": "stream",
       "stream": "stdout",
       "text": [
        " \n",
        "20 x - 2\n"
       ]
      }
     ],
     "prompt_number": 14
    },
    {
     "cell_type": "code",
     "collapsed": false,
     "input": [
      "print p([5])"
     ],
     "language": "python",
     "metadata": {},
     "outputs": [
      {
       "output_type": "stream",
       "stream": "stdout",
       "text": [
        "[243]\n"
       ]
      }
     ],
     "prompt_number": 15
    },
    {
     "cell_type": "code",
     "collapsed": false,
     "input": [
      "print p([5,6,7,8,9,10])"
     ],
     "language": "python",
     "metadata": {},
     "outputs": [
      {
       "output_type": "stream",
       "stream": "stdout",
       "text": [
        "[243 351 479 627 795 983]\n"
       ]
      }
     ],
     "prompt_number": 16
    },
    {
     "cell_type": "code",
     "collapsed": false,
     "input": [
      "p.r"
     ],
     "language": "python",
     "metadata": {},
     "outputs": [
      {
       "metadata": {},
       "output_type": "pyout",
       "prompt_number": 17,
       "text": [
        "array([ 0.1+0.53851648j,  0.1-0.53851648j])"
       ]
      }
     ],
     "prompt_number": 17
    },
    {
     "cell_type": "code",
     "collapsed": false,
     "input": [
      "p.c"
     ],
     "language": "python",
     "metadata": {},
     "outputs": [
      {
       "metadata": {},
       "output_type": "pyout",
       "prompt_number": 18,
       "text": [
        "array([10, -2,  3])"
       ]
      }
     ],
     "prompt_number": 18
    },
    {
     "cell_type": "code",
     "collapsed": false,
     "input": [
      "x=np.arange(0,10,0.5)\n",
      "print x"
     ],
     "language": "python",
     "metadata": {},
     "outputs": [
      {
       "output_type": "stream",
       "stream": "stdout",
       "text": [
        "[ 0.   0.5  1.   1.5  2.   2.5  3.   3.5  4.   4.5  5.   5.5  6.   6.5  7.\n",
        "  7.5  8.   8.5  9.   9.5]\n"
       ]
      }
     ],
     "prompt_number": 19
    },
    {
     "cell_type": "code",
     "collapsed": false,
     "input": [
      "p(x)"
     ],
     "language": "python",
     "metadata": {},
     "outputs": [
      {
       "metadata": {},
       "output_type": "pyout",
       "prompt_number": 20,
       "text": [
        "array([   3. ,    4.5,   11. ,   22.5,   39. ,   60.5,   87. ,  118.5,\n",
        "        155. ,  196.5,  243. ,  294.5,  351. ,  412.5,  479. ,  550.5,\n",
        "        627. ,  708.5,  795. ,  886.5])"
       ]
      }
     ],
     "prompt_number": 20
    },
    {
     "cell_type": "markdown",
     "metadata": {},
     "source": [
      "Furthermore, we can plot our polynomial evaluated over a certain array, using the MatPlotLib library (that we imported earlier on) as:"
     ]
    },
    {
     "cell_type": "code",
     "collapsed": false,
     "input": [
      "plt.plot(x, p(x))\n",
      "plt.ylabel('y')\n",
      "plt.xlabel('x')\n",
      "plt.xlim(0,10)\n",
      "plt.ylim(0,1000)\n",
      "plt.show()"
     ],
     "language": "python",
     "metadata": {},
     "outputs": [
      {
       "metadata": {},
       "output_type": "display_data",
       "png": "[encoded data removed]",
       "text": [
        "<matplotlib.figure.Figure at 0x7ecc860>"
       ]
      }
     ],
     "prompt_number": 21
    },
    {
     "cell_type": "code",
     "collapsed": false,
     "input": [],
     "language": "python",
     "metadata": {},
     "outputs": [],
     "prompt_number": 21
    }
   ],
   "metadata": {}
  }
 ]
}